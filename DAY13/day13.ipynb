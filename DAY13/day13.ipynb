{
 "cells": [
  {
   "cell_type": "markdown",
   "metadata": {},
   "source": [
    "# Day #13 - Debugging: How to Find and Fix Errors in your Code"
   ]
  },
  {
   "cell_type": "code",
   "execution_count": null,
   "metadata": {},
   "outputs": [],
   "source": [
    "############DEBUGGING#####################\n",
    "\n",
    "# Describe Problem\n",
    "def my_function():\n",
    "  for i in range(1, 20):\n",
    "    if i == 20:\n",
    "      print(\"You got it\")\n",
    "my_function()\n",
    "\n",
    "# Error is in range interval, 20 should be 21."
   ]
  },
  {
   "cell_type": "code",
   "execution_count": 1,
   "metadata": {},
   "outputs": [
    {
     "name": "stdout",
     "output_type": "stream",
     "text": [
      "❸\n"
     ]
    }
   ],
   "source": [
    "# Reproduce the Bug\n",
    "from random import randint\n",
    "dice_imgs = [\"❶\", \"❷\", \"❸\", \"❹\", \"❺\", \"❻\"]\n",
    "dice_num = randint(1, 6)\n",
    "print(dice_imgs[dice_num])\n",
    "\n",
    "# Error is in range of randint interval, should be (0,5)"
   ]
  },
  {
   "cell_type": "code",
   "execution_count": 3,
   "metadata": {},
   "outputs": [
    {
     "name": "stdout",
     "output_type": "stream",
     "text": [
      "You are a Gen Z.\n"
     ]
    }
   ],
   "source": [
    "# Play Computer\n",
    "year = int(input(\"What's your year of birth?\"))\n",
    "if year > 1980 and year < 1994:\n",
    "  print(\"You are a millenial.\")\n",
    "elif year > 1994:\n",
    "  print(\"You are a Gen Z.\")\n",
    "\n",
    "# Error is when you type 1994 because its not included. < should be <= or > should be >= "
   ]
  },
  {
   "cell_type": "code",
   "execution_count": 4,
   "metadata": {},
   "outputs": [
    {
     "ename": "TypeError",
     "evalue": "'>' not supported between instances of 'str' and 'int'",
     "output_type": "error",
     "traceback": [
      "\u001b[0;31m---------------------------------------------------------------------------\u001b[0m",
      "\u001b[0;31mTypeError\u001b[0m                                 Traceback (most recent call last)",
      "\u001b[0;32m<ipython-input-4-3bab8d22f203>\u001b[0m in \u001b[0;36m<module>\u001b[0;34m\u001b[0m\n\u001b[1;32m      1\u001b[0m \u001b[0;31m# Fix the Errors\u001b[0m\u001b[0;34m\u001b[0m\u001b[0;34m\u001b[0m\u001b[0;34m\u001b[0m\u001b[0m\n\u001b[1;32m      2\u001b[0m \u001b[0mage\u001b[0m \u001b[0;34m=\u001b[0m \u001b[0minput\u001b[0m\u001b[0;34m(\u001b[0m\u001b[0;34m\"How old are you?\"\u001b[0m\u001b[0;34m)\u001b[0m\u001b[0;34m\u001b[0m\u001b[0;34m\u001b[0m\u001b[0m\n\u001b[0;32m----> 3\u001b[0;31m \u001b[0;32mif\u001b[0m \u001b[0mage\u001b[0m \u001b[0;34m>\u001b[0m \u001b[0;36m18\u001b[0m\u001b[0;34m:\u001b[0m\u001b[0;34m\u001b[0m\u001b[0;34m\u001b[0m\u001b[0m\n\u001b[0m\u001b[1;32m      4\u001b[0m     \u001b[0mprint\u001b[0m\u001b[0;34m(\u001b[0m\u001b[0;34m\"You can drive at age {age}.\"\u001b[0m\u001b[0;34m)\u001b[0m\u001b[0;34m\u001b[0m\u001b[0;34m\u001b[0m\u001b[0m\n",
      "\u001b[0;31mTypeError\u001b[0m: '>' not supported between instances of 'str' and 'int'"
     ]
    }
   ],
   "source": [
    "# Fix the Errors\n",
    "age = input(\"How old are you?\")\n",
    "if age > 18:\n",
    "print(\"You can drive at age {age}.\")\n",
    "\n",
    "# Error is for print line not being indented\n",
    "# Error is when comparing age to 18. Str can't be compare with int. add the input() inside int() \n"
   ]
  },
  {
   "cell_type": "code",
   "execution_count": 11,
   "metadata": {},
   "outputs": [
    {
     "name": "stdout",
     "output_type": "stream",
     "text": [
      "pages: 50\n",
      "word per page: 0\n",
      "0\n"
     ]
    }
   ],
   "source": [
    "#Print is Your Friend\n",
    "pages = 0\n",
    "word_per_page = 0\n",
    "pages = int(input(\"Number of pages: \"))\n",
    "word_per_page == int(input(\"Number of words per page: \"))\n",
    "total_words = pages * word_per_page\n",
    "# print(f\"pages: {pages}\")\n",
    "# print(f\"word per page: {word_per_page}\")\n",
    "print(total_words)\n",
    "\n",
    "# Error is in the double == when should be =. Print statement helped us debug what was wrong."
   ]
  },
  {
   "cell_type": "code",
   "execution_count": null,
   "metadata": {},
   "outputs": [],
   "source": [
    "#Use a Debugger\n",
    "def mutate(a_list):\n",
    "  b_list = []\n",
    "  for item in a_list:\n",
    "    new_item = item * 2\n",
    "  b_list.append(new_item)\n",
    "  print(b_list)\n",
    "\n",
    "mutate([1,2,3,5,8,13])\n",
    "\n",
    "# Error is that the b_list.append(new_item) is not within for loop."
   ]
  },
  {
   "cell_type": "markdown",
   "metadata": {},
   "source": [
    "----\n",
    "## Exercise #1\n",
    "Review the previous lesson and go through the 10 steps to tackle these debugging problems."
   ]
  },
  {
   "cell_type": "code",
   "execution_count": 3,
   "metadata": {},
   "outputs": [
    {
     "name": "stdout",
     "output_type": "stream",
     "text": [
      "This is an odd number.\n"
     ]
    }
   ],
   "source": [
    "# number = int(input(\"Which number do you want to check?\"))\n",
    "\n",
    "# if number % 2 = 0:\n",
    "#   print(\"This is an even number.\")\n",
    "# else:\n",
    "#   print(\"This is an odd number.\")\n",
    "\n",
    "# There should be two equal sign instead of one.\n",
    "\n",
    "number = int(input(\"Which number do you want to check?\"))\n",
    "\n",
    "if number % 2 == 0:\n",
    "  print(\"This is an even number.\")\n",
    "else:\n",
    "  print(\"This is an odd number.\")"
   ]
  },
  {
   "cell_type": "markdown",
   "metadata": {},
   "source": [
    "----\n",
    "## Exercise #2\n",
    "Review the previous lesson and go through the 10 steps to tackle these debugging problems."
   ]
  },
  {
   "cell_type": "code",
   "execution_count": 2,
   "metadata": {},
   "outputs": [
    {
     "name": "stdout",
     "output_type": "stream",
     "text": [
      "Leap year.\n"
     ]
    }
   ],
   "source": [
    "# year = input(\"Which year do you want to check?\")\n",
    "\n",
    "# if year % 4 == 0:\n",
    "#   if year % 100 == 0:\n",
    "#     if year % 400 == 0:\n",
    "#       print(\"Leap year.\")\n",
    "#     else:\n",
    "#       print(\"Not leap year.\")\n",
    "#   else:\n",
    "#     print(\"Leap year.\")\n",
    "# else:\n",
    "#   print(\"Not leap year.\")\n",
    "\n",
    "# Error is there as there is no int() around input()\n",
    "\n",
    "year = int(input(\"Which year do you want to check?\"))\n",
    "\n",
    "if year % 4 == 0:\n",
    "  if year % 100 == 0:\n",
    "    if year % 400 == 0:\n",
    "      print(\"Leap year.\")\n",
    "    else:\n",
    "      print(\"Not leap year.\")\n",
    "  else:\n",
    "    print(\"Leap year.\")\n",
    "else:\n",
    "  print(\"Not leap year.\")"
   ]
  },
  {
   "cell_type": "markdown",
   "metadata": {},
   "source": [
    "----\n",
    "## Exercise #3\n",
    "Review the previous lesson and go through the 10 steps to tackle these debugging problems."
   ]
  },
  {
   "cell_type": "code",
   "execution_count": 1,
   "metadata": {},
   "outputs": [
    {
     "name": "stdout",
     "output_type": "stream",
     "text": [
      "1\n",
      "2\n",
      "Fizz\n",
      "4\n",
      "Buzz\n",
      "Fizz\n",
      "7\n",
      "8\n",
      "Fizz\n",
      "Buzz\n",
      "11\n",
      "Fizz\n",
      "13\n",
      "14\n",
      "FizzBuzz\n",
      "16\n",
      "17\n",
      "Fizz\n",
      "19\n",
      "Buzz\n",
      "Fizz\n",
      "22\n",
      "23\n",
      "Fizz\n",
      "Buzz\n",
      "26\n",
      "Fizz\n",
      "28\n",
      "29\n",
      "FizzBuzz\n",
      "31\n",
      "32\n",
      "Fizz\n",
      "34\n",
      "Buzz\n",
      "Fizz\n",
      "37\n",
      "38\n",
      "Fizz\n",
      "Buzz\n",
      "41\n",
      "Fizz\n",
      "43\n",
      "44\n",
      "FizzBuzz\n",
      "46\n",
      "47\n",
      "Fizz\n",
      "49\n",
      "Buzz\n",
      "Fizz\n",
      "52\n",
      "53\n",
      "Fizz\n",
      "Buzz\n",
      "56\n",
      "Fizz\n",
      "58\n",
      "59\n",
      "FizzBuzz\n",
      "61\n",
      "62\n",
      "Fizz\n",
      "64\n",
      "Buzz\n",
      "Fizz\n",
      "67\n",
      "68\n",
      "Fizz\n",
      "Buzz\n",
      "71\n",
      "Fizz\n",
      "73\n",
      "74\n",
      "FizzBuzz\n",
      "76\n",
      "77\n",
      "Fizz\n",
      "79\n",
      "Buzz\n",
      "Fizz\n",
      "82\n",
      "83\n",
      "Fizz\n",
      "Buzz\n",
      "86\n",
      "Fizz\n",
      "88\n",
      "89\n",
      "FizzBuzz\n",
      "91\n",
      "92\n",
      "Fizz\n",
      "94\n",
      "Buzz\n",
      "Fizz\n",
      "97\n",
      "98\n",
      "Fizz\n",
      "Buzz\n"
     ]
    }
   ],
   "source": [
    "# for number in range(1, 101):\n",
    "#   if number % 3 == 0 or number % 5 == 0:\n",
    "#     print(\"FizzBuzz\")\n",
    "#   if number % 3 == 0:\n",
    "#     print(\"Fizz\")\n",
    "#   if number % 5 == 0:\n",
    "#     print(\"Buzz\")\n",
    "#   else:\n",
    "#     print([number])\n",
    "\n",
    "for number in range(1, 101):\n",
    "  if number % 3 == 0 and number % 5 == 0:\n",
    "    print(\"FizzBuzz\")\n",
    "  elif number % 3 == 0:\n",
    "    print(\"Fizz\")\n",
    "  elif number % 5 == 0:\n",
    "    print(\"Buzz\")\n",
    "  else:\n",
    "    print(number)"
   ]
  }
 ],
 "metadata": {
  "interpreter": {
   "hash": "7b1d5d7e3ebafe170e3e04607f606e955af00efa24e6aac0c2727d6bf7ed4b12"
  },
  "kernelspec": {
   "display_name": "Python 3.8.2 64-bit ('my_python_project': conda)",
   "language": "python",
   "name": "python3"
  },
  "language_info": {
   "codemirror_mode": {
    "name": "ipython",
    "version": 3
   },
   "file_extension": ".py",
   "mimetype": "text/x-python",
   "name": "python",
   "nbconvert_exporter": "python",
   "pygments_lexer": "ipython3",
   "version": "3.8.2"
  },
  "orig_nbformat": 4
 },
 "nbformat": 4,
 "nbformat_minor": 2
}
