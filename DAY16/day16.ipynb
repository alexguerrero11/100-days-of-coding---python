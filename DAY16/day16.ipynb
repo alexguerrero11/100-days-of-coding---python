{
 "cells": [
  {
   "cell_type": "markdown",
   "metadata": {},
   "source": [
    "# Day 16 - Object Oriented Programming (OOP)"
   ]
  },
  {
   "cell_type": "markdown",
   "metadata": {},
   "source": [
    "Objest has two main components - attributes (has) and methods (do)\n",
    "\n",
    "attribute = a variable corresponding to the object\n",
    "\n",
    "method = a function which relates to the object"
   ]
  },
  {
   "cell_type": "code",
   "execution_count": 1,
   "metadata": {},
   "outputs": [
    {
     "data": {
      "text/plain": [
       "<turtle.Turtle at 0x7fcbf5d1e400>"
      ]
     },
     "execution_count": 1,
     "metadata": {},
     "output_type": "execute_result"
    }
   ],
   "source": [
    "# using a class to create objects\n",
    "import turtle\n",
    "\n",
    "turtle.Turtle()\n"
   ]
  },
  {
   "cell_type": "code",
   "execution_count": null,
   "metadata": {},
   "outputs": [],
   "source": [
    "# \n",
    "from turtle import Turtle, Screen\n",
    "timmy = Turtle()\n",
    "print(timmy)\n",
    "timmy.shape(\"turtle\")\n",
    "\n",
    "my_screen = Screen()\n",
    "print(my_screen.canvheight)\n",
    "my_screen.exitonclick()"
   ]
  },
  {
   "cell_type": "code",
   "execution_count": null,
   "metadata": {},
   "outputs": [],
   "source": [
    "# \n",
    "from turtle import Turtle, Screen\n",
    "timmy = Turtle()\n",
    "print(timmy)\n",
    "timmy.shape(\"turtle\")\n",
    "\n",
    "timmy.color(\"coral\")\n",
    "timmy.forward(100)\n",
    "\n",
    "my_screen = Screen()\n",
    "print(my_screen.canvheight)\n",
    "my_screen.exitonclick()"
   ]
  },
  {
   "cell_type": "markdown",
   "metadata": {},
   "source": [
    "Adding an external object"
   ]
  },
  {
   "cell_type": "code",
   "execution_count": null,
   "metadata": {},
   "outputs": [],
   "source": [
    "from prettytable import PrettyTable\n",
    "table = PrettyTable()\n",
    "table.add_column(\"Pokemon Name\", [\"Pikachu\", \"Squirtle\", \"Charmander\"])\n",
    "table.add_column(\"Type\", [\"Electric\", \"Water\", \"Firer\"])\n",
    "print(table)"
   ]
  }
 ],
 "metadata": {
  "kernelspec": {
   "display_name": "Python 3.8.2 ('my_python_project')",
   "language": "python",
   "name": "python3"
  },
  "language_info": {
   "codemirror_mode": {
    "name": "ipython",
    "version": 3
   },
   "file_extension": ".py",
   "mimetype": "text/x-python",
   "name": "python",
   "nbconvert_exporter": "python",
   "pygments_lexer": "ipython3",
   "version": "3.8.2"
  },
  "orig_nbformat": 4,
  "vscode": {
   "interpreter": {
    "hash": "7b1d5d7e3ebafe170e3e04607f606e955af00efa24e6aac0c2727d6bf7ed4b12"
   }
  }
 },
 "nbformat": 4,
 "nbformat_minor": 2
}
