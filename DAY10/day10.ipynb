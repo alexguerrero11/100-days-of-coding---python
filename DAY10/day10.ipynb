{
 "cells": [
  {
   "cell_type": "markdown",
   "metadata": {},
   "source": [
    "## Day #10 - Functions with Outputs"
   ]
  },
  {
   "cell_type": "code",
   "execution_count": null,
   "metadata": {},
   "outputs": [],
   "source": [
    "def format_name(f_name, l_name):\n",
    "    formated_f_name = f_name.title()\n",
    "    formated_l_name = l_name.title()\n",
    "\n",
    "    print(f\"{formated_f_name} {formated_l_name}\")\n",
    "\n",
    "format_name(\"angela\", \"YU\")"
   ]
  },
  {
   "cell_type": "code",
   "execution_count": 3,
   "metadata": {},
   "outputs": [
    {
     "name": "stdout",
     "output_type": "stream",
     "text": [
      "Alex Guerrero\n"
     ]
    }
   ],
   "source": [
    "def format_name(f_name, l_name):\n",
    "    if f_name == \"\" or l_name == \"\":\n",
    "        return\n",
    "    formated_f_name = f_name.title()\n",
    "    formated_l_name = l_name.title()\n",
    "\n",
    "    return f\"{formated_f_name} {formated_l_name}\"\n",
    "\n",
    "print(format_name(input(\"What is your first name? \"), input(\"What is your last name? \")))\n"
   ]
  },
  {
   "cell_type": "markdown",
   "metadata": {},
   "source": [
    "___"
   ]
  },
  {
   "cell_type": "code",
   "execution_count": 6,
   "metadata": {},
   "outputs": [
    {
     "name": "stdout",
     "output_type": "stream",
     "text": [
      "28\n"
     ]
    }
   ],
   "source": [
    "def is_leap(year):\n",
    "    if year % 4 == 0:\n",
    "        if year % 100 == 0:\n",
    "            if year % 400 == 0:\n",
    "                return True\n",
    "            else:\n",
    "                return False\n",
    "        else:\n",
    "            return True\n",
    "    else:\n",
    "        return False\n",
    "\n",
    "def days_in_month(year, month):\n",
    "    month_days = [31, 28, 31, 30, 31, 30, 31, 31, 30, 31, 30, 31]\n",
    "\n",
    "    if (is_leap(year) == True) and (month == 2):\n",
    "        return 29\n",
    "    return month_days[month - 1]\n",
    "\n",
    "    # month_index = month - 1\n",
    "    # number_of_days = month_days[month_index]\n",
    "    # return number_of_days\n",
    "\n",
    "\n",
    "  \n",
    "# Do NOT change any of the code below \n",
    "year = int(input(\"Enter a year: \"))\n",
    "month = int(input(\"Enter a month: \"))\n",
    "days = days_in_month(year, month)\n",
    "print(days)"
   ]
  },
  {
   "cell_type": "markdown",
   "metadata": {},
   "source": [
    "---"
   ]
  },
  {
   "cell_type": "markdown",
   "metadata": {},
   "source": [
    "## Docstring"
   ]
  },
  {
   "cell_type": "code",
   "execution_count": 1,
   "metadata": {},
   "outputs": [
    {
     "name": "stdout",
     "output_type": "stream",
     "text": [
      "Ale Gue\n"
     ]
    }
   ],
   "source": [
    "def format_name(f_name, l_name):\n",
    "    # This is a docstring\n",
    "    \"\"\"Take a first and last name and format it \n",
    "    to retunr the title case version of the name.\"\"\"\n",
    "    # \n",
    "\n",
    "    if f_name == \"\" or l_name == \"\":\n",
    "        return\n",
    "    formated_f_name = f_name.title()\n",
    "    formated_l_name = l_name.title()\n",
    "\n",
    "    return f\"{formated_f_name} {formated_l_name}\"\n",
    "\n",
    "print(format_name(input(\"What is your first name? \"), input(\"What is your last name? \")))\n"
   ]
  }
 ],
 "metadata": {
  "interpreter": {
   "hash": "7b1d5d7e3ebafe170e3e04607f606e955af00efa24e6aac0c2727d6bf7ed4b12"
  },
  "kernelspec": {
   "display_name": "Python 3.8.2 64-bit ('my_python_project': conda)",
   "language": "python",
   "name": "python3"
  },
  "language_info": {
   "codemirror_mode": {
    "name": "ipython",
    "version": 3
   },
   "file_extension": ".py",
   "mimetype": "text/x-python",
   "name": "python",
   "nbconvert_exporter": "python",
   "pygments_lexer": "ipython3",
   "version": "3.8.2"
  },
  "orig_nbformat": 4
 },
 "nbformat": 4,
 "nbformat_minor": 2
}
