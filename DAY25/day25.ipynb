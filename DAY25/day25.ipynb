{
 "cells": [
  {
   "cell_type": "markdown",
   "metadata": {},
   "source": [
    "# Day 25 - Working with CSV Data and the Pandas Library"
   ]
  },
  {
   "attachments": {},
   "cell_type": "markdown",
   "metadata": {},
   "source": [
    "## Reading CSV Data in Python"
   ]
  },
  {
   "cell_type": "code",
   "execution_count": 13,
   "metadata": {},
   "outputs": [
    {
     "name": "stdout",
     "output_type": "stream",
     "text": [
      "['day,temp,condition\\n', 'Monday,12,Sunny\\n', 'Tuesday,14,Rain\\n', 'Wednesday,15,Rain\\n', 'Thursday,14,Cloudy\\n', 'Friday,21,Sunny\\n', 'Saturday,22,Sunny\\n', 'Sunday,24,Sunny']\n"
     ]
    }
   ],
   "source": [
    "# method 1\n",
    "\n",
    "with open(\"weather_data.csv\") as data_file:\n",
    "    data = data_file.readlines()\n",
    "    print(data)"
   ]
  },
  {
   "cell_type": "code",
   "execution_count": 14,
   "metadata": {},
   "outputs": [
    {
     "name": "stdout",
     "output_type": "stream",
     "text": [
      "['day', 'temp', 'condition']\n",
      "['Monday', '12', 'Sunny']\n",
      "['Tuesday', '14', 'Rain']\n",
      "['Wednesday', '15', 'Rain']\n",
      "['Thursday', '14', 'Cloudy']\n",
      "['Friday', '21', 'Sunny']\n",
      "['Saturday', '22', 'Sunny']\n",
      "['Sunday', '24', 'Sunny']\n"
     ]
    }
   ],
   "source": [
    "# method 2\n",
    "\n",
    "import csv\n",
    "\n",
    "with open(\"weather_data.csv\") as data_file:\n",
    "    data = csv.reader(data_file)\n",
    "    for row in data:\n",
    "        print(row)\n"
   ]
  },
  {
   "cell_type": "code",
   "execution_count": 15,
   "metadata": {},
   "outputs": [
    {
     "name": "stdout",
     "output_type": "stream",
     "text": [
      "[12, 14, 15, 14, 21, 22, 24]\n"
     ]
    }
   ],
   "source": [
    "# challenge get all the temperature into a list\n",
    "\n",
    "import csv\n",
    "\n",
    "with open(\"weather_data.csv\") as data_file:\n",
    "    data = csv.reader(data_file)\n",
    "    temperatures = []\n",
    "    for row in data:\n",
    "        if row[1] != \"temp\":\n",
    "            temperatures.append(int(row[1]))\n",
    "    print(temperatures)"
   ]
  },
  {
   "cell_type": "code",
   "execution_count": 16,
   "metadata": {},
   "outputs": [
    {
     "name": "stdout",
     "output_type": "stream",
     "text": [
      "         day  temp condition\n",
      "0     Monday    12     Sunny\n",
      "1    Tuesday    14      Rain\n",
      "2  Wednesday    15      Rain\n",
      "3   Thursday    14    Cloudy\n",
      "4     Friday    21     Sunny\n",
      "5   Saturday    22     Sunny\n",
      "6     Sunday    24     Sunny\n"
     ]
    }
   ],
   "source": [
    "import pandas as pd\n",
    "\n",
    "data = pd.read_csv(\"weather_data.csv\")\n",
    "print(data)\n",
    "# print(data[\"temp\"])"
   ]
  },
  {
   "attachments": {},
   "cell_type": "markdown",
   "metadata": {},
   "source": [
    "## Dataframes & Series: Working with Rows & Columns"
   ]
  },
  {
   "cell_type": "code",
   "execution_count": 17,
   "metadata": {},
   "outputs": [
    {
     "name": "stdout",
     "output_type": "stream",
     "text": [
      "      day  temp condition\n",
      "0  Monday    12     Sunny\n",
      "      day  temp condition\n",
      "6  Sunday    24     Sunny\n"
     ]
    }
   ],
   "source": [
    "## Get Data in rows\n",
    "\n",
    "print(data[data.day == \"Monday\"])\n",
    "print(data[data.temp == data.temp.max()])"
   ]
  },
  {
   "cell_type": "code",
   "execution_count": 18,
   "metadata": {},
   "outputs": [
    {
     "name": "stdout",
     "output_type": "stream",
     "text": [
      "  students  scores\n",
      "0      Amy      76\n",
      "1    James      56\n",
      "2   Angela      65\n"
     ]
    }
   ],
   "source": [
    "## Create a dataframe from scratch\n",
    "\n",
    "data_dict = {\n",
    "    \"students\": [\"Amy\", \"James\", \"Angela\"],\n",
    "    \"scores\": [76, 56, 65]\n",
    "}\n",
    "\n",
    "data = pd.DataFrame(data_dict)  # creating a dataframe with dictionary data\n",
    "data.to_csv(\"new_data.csv\")  # creates a csv file with the data\n",
    "print(data)"
   ]
  },
  {
   "attachments": {},
   "cell_type": "markdown",
   "metadata": {},
   "source": [
    "## The Great Squirrel Census Data Analysis (with Pandas)"
   ]
  },
  {
   "cell_type": "code",
   "execution_count": 19,
   "metadata": {},
   "outputs": [
    {
     "name": "stdout",
     "output_type": "stream",
     "text": [
      "2473\n",
      "392\n",
      "103\n"
     ]
    }
   ],
   "source": [
    "csv_data = pd.read_csv(\"2018_Central_Park_Squirrel_Census_-_Squirrel_Data.csv\")\n",
    "grey_squirrels_count = len(csv_data[csv_data[\"Primary Fur Color\"] == \"Gray\"])\n",
    "red_squirrels_count = len(csv_data[csv_data[\"Primary Fur Color\"] == \"Cinnamon\"])\n",
    "black_squirrels_count = len(csv_data[csv_data[\"Primary Fur Color\"] == \"Black\"])\n",
    "\n",
    "print(grey_squirrels_count)\n",
    "print(red_squirrels_count)\n",
    "print(black_squirrels_count)\n",
    "\n",
    "data_dict = {\n",
    "    \"Fur Color\": [\"Gray\", \"Cinnamon\", \"Black\"],\n",
    "    \"Count\": [grey_squirrels_count, red_squirrels_count, black_squirrels_count]\n",
    "}\n",
    "\n",
    "df = pd.DataFrame(data_dict)\n",
    "df.to_csv(\"squirrel_count.csv\")"
   ]
  },
  {
   "attachments": {},
   "cell_type": "markdown",
   "metadata": {},
   "source": [
    "## Project - U.S. States Game"
   ]
  },
  {
   "cell_type": "markdown",
   "metadata": {},
   "source": []
  }
 ],
 "metadata": {
  "kernelspec": {
   "display_name": "my_python_project",
   "language": "python",
   "name": "python3"
  },
  "language_info": {
   "codemirror_mode": {
    "name": "ipython",
    "version": 3
   },
   "file_extension": ".py",
   "mimetype": "text/x-python",
   "name": "python",
   "nbconvert_exporter": "python",
   "pygments_lexer": "ipython3",
   "version": "3.8.2"
  },
  "orig_nbformat": 4,
  "vscode": {
   "interpreter": {
    "hash": "7b1d5d7e3ebafe170e3e04607f606e955af00efa24e6aac0c2727d6bf7ed4b12"
   }
  }
 },
 "nbformat": 4,
 "nbformat_minor": 2
}
