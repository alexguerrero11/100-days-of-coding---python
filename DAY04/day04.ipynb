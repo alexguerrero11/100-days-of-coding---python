{
 "cells": [
  {
   "cell_type": "markdown",
   "metadata": {},
   "source": [
    "# Day 4 - Randomisation and Python Lists"
   ]
  },
  {
   "cell_type": "code",
   "execution_count": 1,
   "metadata": {},
   "outputs": [
    {
     "name": "stdout",
     "output_type": "stream",
     "text": [
      "10\n",
      "0.8759912649941255\n"
     ]
    }
   ],
   "source": [
    "import random\n",
    "\n",
    "random_integer = random.randint(1,10)\n",
    "print(random_integer)\n",
    "\n",
    "random_float = random.random()\n",
    "print(random_float)"
   ]
  },
  {
   "cell_type": "code",
   "execution_count": 2,
   "metadata": {},
   "outputs": [
    {
     "name": "stdout",
     "output_type": "stream",
     "text": [
      "3.14159246\n"
     ]
    }
   ],
   "source": [
    "# imports module holding the value of pi\n",
    "import pie_module \n",
    "\n",
    "# prints out the variable (pi) stored in the module pie_module\n",
    "print(pie_module.pi)\n",
    "\n",
    "\n"
   ]
  },
  {
   "cell_type": "markdown",
   "metadata": {},
   "source": [
    "---"
   ]
  },
  {
   "cell_type": "markdown",
   "metadata": {},
   "source": [
    "#### Example #1 - Virtual Coin Toss "
   ]
  },
  {
   "cell_type": "markdown",
   "metadata": {},
   "source": [
    "> Write a virtual coin toss porgram. It will randomly tell the user \"Heads\" or \"Tails\". \n"
   ]
  },
  {
   "cell_type": "code",
   "execution_count": 3,
   "metadata": {},
   "outputs": [
    {
     "name": "stdout",
     "output_type": "stream",
     "text": [
      "Heads\n"
     ]
    }
   ],
   "source": [
    "# Assigning this variable the random integer generated\n",
    "random_number = random.randint(0,1)\n",
    "\n",
    "# Condition Statements\n",
    "if random_number == 1:\n",
    "    print(\"Heads\")\n",
    "else:\n",
    "    print(\"Tails\")\n"
   ]
  },
  {
   "cell_type": "markdown",
   "metadata": {},
   "source": [
    "---"
   ]
  },
  {
   "cell_type": "code",
   "execution_count": 4,
   "metadata": {},
   "outputs": [
    {
     "name": "stdout",
     "output_type": "stream",
     "text": [
      "['item1', 'item2']\n",
      "['Delaware', 'Pennsylvania']\n",
      "['Delaware', 'Pennsylvania', 'New York']\n",
      "['Delaware', 'Pennsylvania', 'New York', 'New Jersey', 'California']\n"
     ]
    }
   ],
   "source": [
    "# List is a data structure\n",
    "\n",
    "# ex\n",
    "fruits = [\"item1\" , \"item2\"]\n",
    "print(fruits)\n",
    "\n",
    "# list of US states\n",
    "states_of_america = [\"Delaware\", \"Pennsylvania\"]\n",
    "print(states_of_america)\n",
    "\n",
    "# We can append into an existing list\n",
    "states_of_america.append(\"New York\")\n",
    "print(states_of_america)\n",
    "\n",
    "# We can extend many variables into an existing list\n",
    "states_of_america.extend([\"New Jersey\", \"California\"])\n",
    "print(states_of_america)"
   ]
  },
  {
   "cell_type": "markdown",
   "metadata": {},
   "source": [
    "---"
   ]
  },
  {
   "cell_type": "markdown",
   "metadata": {},
   "source": [
    "#### Example #2 - Banker Roulette - Who will pay for the bill?"
   ]
  },
  {
   "cell_type": "markdown",
   "metadata": {},
   "source": [
    "> You are going to write a program which will select a random name from a list of names. The person selected will have to pay for everybody's food bill."
   ]
  },
  {
   "cell_type": "code",
   "execution_count": 5,
   "metadata": {},
   "outputs": [
    {
     "name": "stdout",
     "output_type": "stream",
     "text": [
      "miranda is going to treat everyone tonight by paying the bill! \n"
     ]
    }
   ],
   "source": [
    "# Split string method\n",
    "names_string = input(\"Give me everybody's names, separated by a comma. \")\n",
    "names = names_string.split(\", \")\n",
    "\n",
    "# Variable assign the total count of names in list\n",
    "range = len(names)\n",
    "\n",
    "# Variable assigned to the results of random integer selected with the range conditions set above\n",
    "# Remember that list starts with 0 for its first index variable in list.\n",
    "# Last index variable is one less than the variable range that is the total count of items in the list\n",
    "random_result = random.randint(0, range - 1)\n",
    "\n",
    "# Variable is assigned a f function which print the following\n",
    "# Print out results of who is paying for bill\n",
    "results = f\"{names[random_result]} is going to treat everyone tonight by paying the bill! \"\n",
    "print(results)\n"
   ]
  },
  {
   "cell_type": "markdown",
   "metadata": {},
   "source": [
    "Angela, Ben, Jenny, Michael, Alex"
   ]
  },
  {
   "cell_type": "markdown",
   "metadata": {},
   "source": [
    "---"
   ]
  },
  {
   "cell_type": "markdown",
   "metadata": {},
   "source": []
  },
  {
   "cell_type": "code",
   "execution_count": 6,
   "metadata": {},
   "outputs": [
    {
     "data": {
      "text/plain": [
       "[['Strawberries',\n",
       "  'Nectarines',\n",
       "  'Apples',\n",
       "  'Grapes',\n",
       "  'Peaches',\n",
       "  'Cherries',\n",
       "  'Pears'],\n",
       " ['Spinach', 'Kale', 'Tomatoes', 'Celery', 'Potatoes']]"
      ]
     },
     "execution_count": 6,
     "metadata": {},
     "output_type": "execute_result"
    }
   ],
   "source": [
    "# Nested lists\n",
    "fruits = [\"Strawberries\", \"Nectarines\", \"Apples\", \"Grapes\", \"Peaches\", \"Cherries\", \"Pears\"]\n",
    "vegetables = [\"Spinach\", \"Kale\", \"Tomatoes\", \"Celery\", \"Potatoes\"]\n",
    "\n",
    "dirty_dozen = [fruits, vegetables]\n",
    "\n",
    "dirty_dozen"
   ]
  },
  {
   "cell_type": "code",
   "execution_count": 7,
   "metadata": {},
   "outputs": [
    {
     "data": {
      "text/plain": [
       "['Spinach', 'Kale', 'Tomatoes', 'Celery', 'Potatoes']"
      ]
     },
     "execution_count": 7,
     "metadata": {},
     "output_type": "execute_result"
    }
   ],
   "source": [
    "vegetables"
   ]
  },
  {
   "cell_type": "markdown",
   "metadata": {},
   "source": [
    "---"
   ]
  },
  {
   "cell_type": "markdown",
   "metadata": {},
   "source": [
    "#### Example #3 - Treasure Map"
   ]
  },
  {
   "cell_type": "markdown",
   "metadata": {},
   "source": [
    "> You are going to write a program which will mark a spot with an X.\n",
    "> \n",
    "> Your job is to write a program that allows you to mark a square on the map using a two-digit system. The first digit is the vertical column number and the second digit is the horizontal row number."
   ]
  },
  {
   "cell_type": "code",
   "execution_count": 8,
   "metadata": {},
   "outputs": [
    {
     "name": "stdout",
     "output_type": "stream",
     "text": [
      "['⬜️', '⬜️', '⬜️']\n",
      "['⬜️', '⬜️', '⬜️']\n",
      "['⬜️', '⬜️', '⬜️']\n",
      "You selected column: 2, and row: 3.\n",
      "['⬜️', '⬜️', '⬜️']\n",
      "['⬜️', '⬜️', '⬜️']\n",
      "['⬜️', 'X', '⬜️']\n"
     ]
    }
   ],
   "source": [
    "# Print of empty map\n",
    "row1 = [\"⬜️\",\"⬜️\",\"⬜️\"]\n",
    "row2 = [\"⬜️\",\"⬜️\",\"⬜️\"]\n",
    "row3 = [\"⬜️\",\"⬜️\",\"⬜️\"]\n",
    "map = [row1, row2, row3]\n",
    "print(f\"{row1}\\n{row2}\\n{row3}\")\n",
    "\n",
    "# User inputs two digit number where the first number is the columns and second number is the rows.\n",
    "position = input(\"Where do you want to put the treasure? \")\n",
    "\n",
    "column_index = int(position[0])\n",
    "row_index = int(position[1])\n",
    "\n",
    "print(f\"You selected column: {column_index}, and row: {row_index}.\")\n",
    "\n",
    "# We got into the selected row and then selected column to replace inital variable\n",
    "selected_row = map[row_index - 1]\n",
    "selected_row[column_index - 1] = \"X\"\n",
    "\n",
    "# map[row_index - 1][column_index - 1] = \"X\" \n",
    "# the code above does the same type of index\n",
    "\n",
    "# Print out each row\n",
    "print(f\"{row1}\\n{row2}\\n{row3}\")"
   ]
  },
  {
   "cell_type": "markdown",
   "metadata": {},
   "source": [
    "---"
   ]
  },
  {
   "cell_type": "markdown",
   "metadata": {},
   "source": [
    "#### Day #4 - Rock, paper, scissors game"
   ]
  },
  {
   "cell_type": "code",
   "execution_count": 84,
   "metadata": {},
   "outputs": [
    {
     "name": "stdout",
     "output_type": "stream",
     "text": [
      "Player chose Rock\n",
      "\n",
      "\n",
      "    _______\n",
      "---'   ____)\n",
      "      (_____)\n",
      "      (_____)\n",
      "      (____)\n",
      "---.__(___)\n",
      "\n",
      "Computer chose Paper\n",
      "\n",
      "\n",
      "    _______\n",
      "---'   ____)____\n",
      "          ______)\n",
      "          _______)\n",
      "         _______)\n",
      "---.__________)\n",
      "\n",
      "Player lose!\n"
     ]
    }
   ],
   "source": [
    "# ASCII art for the hand signals \n",
    "rock = '''\n",
    "    _______\n",
    "---'   ____)\n",
    "      (_____)\n",
    "      (_____)\n",
    "      (____)\n",
    "---.__(___)\n",
    "'''\n",
    "\n",
    "paper = '''\n",
    "    _______\n",
    "---'   ____)____\n",
    "          ______)\n",
    "          _______)\n",
    "         _______)\n",
    "---.__________)\n",
    "'''\n",
    "\n",
    "scissors = '''\n",
    "    _______\n",
    "---'   ____)____\n",
    "          ______)\n",
    "       __________)\n",
    "      (____)\n",
    "---.__(___)\n",
    "'''\n",
    "\n",
    "\n",
    "\n",
    "print(\"Ready to play Rock, Paper, Scissor\")\n",
    "\n",
    "# User inputs choice \n",
    "user_choice = int(input(\"What do you choose? Type 0 for Rock, 1 for Paper or 2 for Scissors.\\n\"))\n",
    "\n",
    "if user_choice >= 3 or user_choice < 0: \n",
    "    print(\"Invalid input!\")\n",
    "else:\n",
    "    img_list = [rock, paper, scissors]\n",
    "    string_list = [\"Rock\", \"Paper\", \"Scissors\"]\n",
    "\n",
    "    user_choice_string =  string_list[user_choice]\n",
    "    print(f\"Player chose {user_choice_string}\\n\")\n",
    "    print(img_list[user_choice])\n",
    "\n",
    "\n",
    "    # Computer choice \n",
    "    computer_choice = random.randint(0, 2)\n",
    "    computer_choice_string =  string_list[computer_choice]\n",
    "    print(f\"Computer chose {computer_choice_string}\\n\")\n",
    "    print(img_list[computer_choice])\n",
    "\n",
    "    # Condition Statements \n",
    "    if user_choice == 0 and computer_choice == 2:\n",
    "        print(\"Player win!\")\n",
    "    elif computer_choice == 0 and user_choice == 2:\n",
    "        print(\"Player lose!\")\n",
    "    elif computer_choice > user_choice:\n",
    "        print(\"Player lose!\")\n",
    "    elif user_choice > computer_choice:\n",
    "        print(\"Player win!\")\n",
    "    elif computer_choice == user_choice:\n",
    "        print(\"It's a draw!\")\n",
    "\n"
   ]
  }
 ],
 "metadata": {
  "interpreter": {
   "hash": "7b1d5d7e3ebafe170e3e04607f606e955af00efa24e6aac0c2727d6bf7ed4b12"
  },
  "kernelspec": {
   "display_name": "Python 3.8.2 64-bit ('my_python_project': conda)",
   "language": "python",
   "name": "python3"
  },
  "language_info": {
   "codemirror_mode": {
    "name": "ipython",
    "version": 3
   },
   "file_extension": ".py",
   "mimetype": "text/x-python",
   "name": "python",
   "nbconvert_exporter": "python",
   "pygments_lexer": "ipython3",
   "version": "3.8.2"
  },
  "orig_nbformat": 4
 },
 "nbformat": 4,
 "nbformat_minor": 2
}
