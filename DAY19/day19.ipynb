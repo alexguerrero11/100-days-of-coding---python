{
 "cells": [
  {
   "attachments": {},
   "cell_type": "markdown",
   "metadata": {},
   "source": [
    "# Day 19 - Instances, State and Higher Order Functions"
   ]
  },
  {
   "cell_type": "code",
   "execution_count": null,
   "metadata": {},
   "outputs": [],
   "source": [
    "from turtle import Turtle, Screen\n",
    "\n",
    "tim = Turtle()\n",
    "screen = Screen()\n",
    "\n",
    "def move_forwards():\n",
    "    #make turtle walk forward\n",
    "    tim.forward(10)\n",
    "    \n",
    "\n",
    "screen.listen()  #initiliazing listening operator\n",
    "screen.onkey(key=\"space\", fun=move_forwards)  #key trigger function\n",
    "screen.exitonclick()"
   ]
  },
  {
   "cell_type": "code",
   "execution_count": null,
   "metadata": {},
   "outputs": [],
   "source": [
    "# Challenge: Make an Etch-A-Sketch App\n",
    "\n",
    "from turtle import Turtle, Screen\n",
    "\n",
    "\n",
    "tim = Turtle()\n",
    "screen = Screen()\n",
    "\n",
    "\n",
    "def move_forwards():\n",
    "    #make turtle walk forward\n",
    "    tim.forward(10)\n",
    "    \n",
    "def move_backwards():\n",
    "    #make turtle walk backward\n",
    "    tim.backward(10)\n",
    "    \n",
    "def move_clockwise():\n",
    "    #make turtle rotate clockwise\n",
    "    new_heading = tim.heading() - 10\n",
    "    tim.setheading(new_heading)\n",
    "\n",
    "def move_counterclockwise():\n",
    "    #make turtle rotate counter clockwise\n",
    "    new_heading = tim.heading() + 10\n",
    "    tim.setheading(new_heading)\n",
    "\n",
    "def clear_screen():\n",
    "    #clear drawing\n",
    "    tim.clear()\n",
    "    tim.penup()\n",
    "    tim.home()\n",
    "    tim.pendown()\n",
    "\n",
    "\n",
    "screen.listen()  #initiliazing listening operator\n",
    "#key trigger functions\n",
    "screen.onkey(key=\"w\", fun=move_forwards)\n",
    "screen.onkey(key=\"s\", fun=move_backwards)\n",
    "screen.onkey(key=\"d\", fun=move_clockwise)\n",
    "screen.onkey(key=\"a\", fun=move_counterclockwise)\n",
    "screen.onkey(key=\"c\", fun=clear_screen)\n",
    "screen.exitonclick()  #exit program"
   ]
  },
  {
   "cell_type": "code",
   "execution_count": null,
   "metadata": {},
   "outputs": [],
   "source": [
    "# Turtle Coordinate System"
   ]
  }
 ],
 "metadata": {
  "kernelspec": {
   "display_name": "Python 3.8.2 ('my_python_project')",
   "language": "python",
   "name": "python3"
  },
  "language_info": {
   "name": "python",
   "version": "3.8.2 (default, Mar 25 2020, 11:22:43) \n[Clang 4.0.1 (tags/RELEASE_401/final)]"
  },
  "orig_nbformat": 4,
  "vscode": {
   "interpreter": {
    "hash": "7b1d5d7e3ebafe170e3e04607f606e955af00efa24e6aac0c2727d6bf7ed4b12"
   }
  }
 },
 "nbformat": 4,
 "nbformat_minor": 2
}
