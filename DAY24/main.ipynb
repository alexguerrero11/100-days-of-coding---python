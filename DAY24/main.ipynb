{
 "cells": [
  {
   "cell_type": "code",
   "execution_count": 3,
   "metadata": {},
   "outputs": [
    {
     "name": "stdout",
     "output_type": "stream",
     "text": [
      "\n",
      "New text.\n"
     ]
    }
   ],
   "source": [
    "# opening file and printing its content\n",
    "with open(\"my_file.txt\") as file:\n",
    "    content = file.read()\n",
    "    print(content)"
   ]
  },
  {
   "cell_type": "code",
   "execution_count": 2,
   "metadata": {},
   "outputs": [],
   "source": [
    "# write over a file\n",
    "with open(\"my_file.txt\", mode=\"w\") as file:\n",
    "    file.write(\"New text.\")"
   ]
  },
  {
   "cell_type": "code",
   "execution_count": null,
   "metadata": {},
   "outputs": [],
   "source": [
    "# append new text to existing text\n",
    "with open(\"my_file.txt\", mode=\"a\") as file:\n",
    "    file.write(\"\\nNew text.\")"
   ]
  },
  {
   "attachments": {},
   "cell_type": "markdown",
   "metadata": {},
   "source": [
    "w is for write\n",
    "\n",
    "a is for append\n",
    "\n",
    "if file doesn't exist then it will create it for us (mode w)"
   ]
  }
 ],
 "metadata": {
  "kernelspec": {
   "display_name": "my_python_project",
   "language": "python",
   "name": "python3"
  },
  "language_info": {
   "codemirror_mode": {
    "name": "ipython",
    "version": 3
   },
   "file_extension": ".py",
   "mimetype": "text/x-python",
   "name": "python",
   "nbconvert_exporter": "python",
   "pygments_lexer": "ipython3",
   "version": "3.8.2"
  },
  "orig_nbformat": 4,
  "vscode": {
   "interpreter": {
    "hash": "7b1d5d7e3ebafe170e3e04607f606e955af00efa24e6aac0c2727d6bf7ed4b12"
   }
  }
 },
 "nbformat": 4,
 "nbformat_minor": 2
}
