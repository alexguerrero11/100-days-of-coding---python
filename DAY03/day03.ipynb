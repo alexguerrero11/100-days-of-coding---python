{
 "cells": [
  {
   "cell_type": "markdown",
   "metadata": {},
   "source": [
    "# Day 3 - Control Flow and Logical Operators"
   ]
  },
  {
   "cell_type": "code",
   "execution_count": 1,
   "metadata": {},
   "outputs": [
    {
     "name": "stdout",
     "output_type": "stream",
     "text": [
      "Welcome to the rollercoaster!\n",
      "Sorry, you have to grow taller before you can ride.\n"
     ]
    }
   ],
   "source": [
    "# Example of if else condition\n",
    "\n",
    "print(\"Welcome to the rollercoaster!\")\n",
    "height = int(input(\"What is your height in cm? \"))\n",
    "\n",
    "if height > 120:\n",
    "    print(\"You can ride the rollercoaster!\")\n",
    "else:\n",
    "    print(\"Sorry, you have to grow taller before you can ride.\")"
   ]
  },
  {
   "cell_type": "markdown",
   "metadata": {},
   "source": [
    "---"
   ]
  },
  {
   "cell_type": "markdown",
   "metadata": {},
   "source": [
    "## 3.1 - Odd or Eeven?\n",
    "Write a program that works out whether if a given number is an odd or even number. \n",
    "\n",
    "Even numbers can be divided by 2 with no remainder.\n",
    "\n"
   ]
  },
  {
   "cell_type": "code",
   "execution_count": 2,
   "metadata": {},
   "outputs": [
    {
     "name": "stdout",
     "output_type": "stream",
     "text": [
      "This number is Even!\n"
     ]
    }
   ],
   "source": [
    "number = int(input(\"Which number do you want to check? \"))\n",
    "\n",
    "if number % 2 == 0:\n",
    "    print(\"This number is Even!\")\n",
    "else: \n",
    "    print(\"This number is Odd!\")"
   ]
  },
  {
   "cell_type": "markdown",
   "metadata": {},
   "source": [
    "---"
   ]
  },
  {
   "cell_type": "code",
   "execution_count": 3,
   "metadata": {},
   "outputs": [
    {
     "name": "stdout",
     "output_type": "stream",
     "text": [
      "Welcome to the rollercoaster!\n",
      "Sorry, you have to grow taller before you can ride.\n"
     ]
    }
   ],
   "source": [
    "# Example of nested if else condition\n",
    "\n",
    "print(\"Welcome to the rollercoaster!\")\n",
    "height = int(input(\"What is your height in cm? \"))\n",
    "\n",
    "if height > 120:\n",
    "    print(\"You can ride the rollercoaster!\")\n",
    "    age = int(input(\"What is your age? \"))\n",
    "    if age < 12:\n",
    "        print(\"Please pay $5.\")\n",
    "    elif age <= 18:\n",
    "        print(\"Please pay $7.\")\n",
    "    else:\n",
    "        print(\"Please pay $12.\")\n",
    "else:\n",
    "    print(\"Sorry, you have to grow taller before you can ride.\")"
   ]
  },
  {
   "cell_type": "markdown",
   "metadata": {},
   "source": [
    "---"
   ]
  },
  {
   "cell_type": "markdown",
   "metadata": {},
   "source": [
    "# 2.2 - BMI 2.0\n",
    "Write a program that interprets the Body Mass Index (BMI) based on a user's weight and height.\n",
    "\n",
    "It should tell them, the interpretation of their BMI based on the BMI value.\n"
   ]
  },
  {
   "cell_type": "code",
   "execution_count": 4,
   "metadata": {},
   "outputs": [
    {
     "name": "stdout",
     "output_type": "stream",
     "text": [
      "Your BMI is 0, you are slightly underweight.\n"
     ]
    }
   ],
   "source": [
    "## Note \n",
    "# Under 18.5 they are underweight.\n",
    "# Over 18.5 but below 25 they have a normal weight.\n",
    "# Over 25 but below 30 they are overweight.\n",
    "# Over 30 but below 35 they are obese.\n",
    "# Above 35 they are clinically obese.\n",
    "\n",
    "# User input height in m and weight in kg.\n",
    "height = float(input(\"enter your height in m: \"))\n",
    "weight = float(input(\"enter your weight in kg: \"))\n",
    "\n",
    "# BMI is calculated by dividing a person's weight (in kg) by the square of their height (in m).\n",
    "BMI = round(weight / height ** 2)\n",
    "\n",
    "if BMI < 18.5: \n",
    "    print(f\"Your BMI is {BMI}, you are slightly underweight.\")\n",
    "elif BMI < 25:\n",
    "    print(f\"Your BMI is {BMI}, you have normal weight.\")\n",
    "elif BMI < 30:\n",
    "    print(f\"Your BMI is {BMI}, you are slightly overweight.\")\n",
    "elif BMI < 35:\n",
    "    print(f\"Your BMI is {BMI}, you are slightly obese.\")\n",
    "else:\n",
    "    print(f\"Your BMI is {BMI}, you are clinically obese.\")"
   ]
  },
  {
   "cell_type": "markdown",
   "metadata": {},
   "source": [
    "---"
   ]
  },
  {
   "cell_type": "markdown",
   "metadata": {},
   "source": [
    "## 2.3 - Leap Year\n",
    "Write a program that works out whether if a given year is a leap year. A normal year has 365 days, leap years have 366, with an extra day in February. \n",
    "\n",
    "How a leap year works:\n",
    "- on every year that is evenly divisible by 4\n",
    "    - except every year that is evenly divisible by 100\n",
    "        - unless the year is also evenly divisible by 400 "
   ]
  },
  {
   "cell_type": "code",
   "execution_count": 5,
   "metadata": {},
   "outputs": [
    {
     "name": "stdout",
     "output_type": "stream",
     "text": [
      "The 2022 is not a leap year.\n"
     ]
    }
   ],
   "source": [
    "# User input year they want to check if it is a leap year\n",
    "year = int(input(\"Which year do you want to check? \"))\n",
    "\n",
    "# Logic determining is year is a leap year.\n",
    "if year %  4 == 0:\n",
    "    if year % 100 == 0:\n",
    "        if year % 400 == 0:\n",
    "            print(f\"The {year} is a leap year!\")\n",
    "        else:\n",
    "            print(f\"The {year} is not a leap year.\")\n",
    "    else:\n",
    "        print(f\"The {year} is a leap year!\")\n",
    "else: \n",
    "    print(f\"The {year} is not a leap year.\")"
   ]
  },
  {
   "cell_type": "markdown",
   "metadata": {},
   "source": [
    "---"
   ]
  },
  {
   "cell_type": "code",
   "execution_count": 8,
   "metadata": {},
   "outputs": [
    {
     "name": "stdout",
     "output_type": "stream",
     "text": [
      "Welcome to the rollercoaster!\n",
      "Sorry, you have to grow taller before you can ride.\n"
     ]
    }
   ],
   "source": [
    "# Checking multiple conditions\n",
    "\n",
    "# Example 2 but improved \n",
    "# We are asking if they want a picture for an extra cost of $3 \n",
    "\n",
    "print(\"Welcome to the rollercoaster!\")\n",
    "height = int(input(\"What is your height in cm? \"))\n",
    "bill = 0\n",
    "\n",
    "if height > 120:\n",
    "    print(\"You can ride the rollercoaster!\")\n",
    "    age = int(input(\"What is your age? \"))\n",
    "    if age < 12:\n",
    "        bill = 5\n",
    "        print(\"Child tickets are $5.\")\n",
    "    elif age <= 18:\n",
    "        bill = 7\n",
    "        print(\"Youth tickers are $7.\")\n",
    "    elif age >=45 and age <=55:\n",
    "        print(\"Everything is going to be okay. Have a free ride on us.\")\n",
    "    else:\n",
    "        bill = 12\n",
    "        print(\"Adult tickets are $12.\")\n",
    "    \n",
    "    wants_photo = input(\"Do you want a photo taken? Y or N. \")\n",
    "    if wants_photo == \"Y\":\n",
    "        bill += 3\n",
    "\n",
    "    print(f\"Your final bill is ${bill}.\")\n",
    "\n",
    "else:\n",
    "    print(\"Sorry, you have to grow taller before you can ride.\")"
   ]
  },
  {
   "cell_type": "markdown",
   "metadata": {},
   "source": [
    "---"
   ]
  },
  {
   "cell_type": "markdown",
   "metadata": {},
   "source": [
    "## 2.4 - Python Pizza Order\n",
    "Build a automatic pizza program.\n",
    "\n",
    "Based on user's order, work out their final bill."
   ]
  },
  {
   "cell_type": "code",
   "execution_count": 9,
   "metadata": {},
   "outputs": [
    {
     "name": "stdout",
     "output_type": "stream",
     "text": [
      "Welcome to Python Pizza Deliveries!\n",
      "Your total bill is $18\n"
     ]
    }
   ],
   "source": [
    "# User input\n",
    "print(\"Welcome to Python Pizza Deliveries!\")\n",
    "size = input(\"What size pizza do you want? S, M, or L \")\n",
    "add_pepperoni = input(\"Do you want pepperoni? Y or N \")\n",
    "extra_cheese = input(\"Do you want extra cheese? Y or N \")\n",
    "\n",
    "\n",
    "# Prizes - given\n",
    "small_pizza_cost = 15\n",
    "medium_pizza_cost = 20\n",
    "large_pizza_cost = 25\n",
    "\n",
    "extra_pepperoni_cost_small = 2\n",
    "extra_pepperoni_cost = 3\n",
    "\n",
    "extra_cheese_cost = 1\n",
    "\n",
    "\n",
    "# Start of bill is zero\n",
    "total_bill = 0\n",
    "\n",
    "# Pizza size cost condition\n",
    "if size == \"S\":\n",
    "    total_bill = small_pizza_cost\n",
    "elif size == \"M\":\n",
    "    total_bill = medium_pizza_cost\n",
    "else:\n",
    "    total_bill = large_pizza_cost\n",
    "\n",
    "# Extra pepperoni cost condition\n",
    "if add_pepperoni == \"Y\":\n",
    "    if size == \"S\":\n",
    "        total_bill += extra_pepperoni_cost_small\n",
    "    else:\n",
    "        total_bill += extra_pepperoni_cost\n",
    "\n",
    "# Extra cheese cost condition\n",
    "if extra_cheese == \"Y\":\n",
    "    total_bill += extra_cheese_cost\n",
    "\n",
    "print(f\"Your total bill is ${total_bill}\")"
   ]
  },
  {
   "cell_type": "markdown",
   "metadata": {},
   "source": [
    "---"
   ]
  },
  {
   "cell_type": "markdown",
   "metadata": {},
   "source": [
    "# 2.5 - Love Calculator\n",
    "Write a program that tests the compatibility between two people. (using the super scientific method recommended by BuzzFeed.)\n",
    "\n",
    "For Love Scores less than 10 or greater than 90, the message should be: \"Your score is x, you go together like coke and mentos.\"\n",
    "\n",
    "For Love Scores between 40 and 50, the message should be: \"Your score is y, you are alright together.\"\n",
    "\n",
    "Otherwise the message will just be their score. e.g: \"Your score is z.\""
   ]
  },
  {
   "cell_type": "markdown",
   "metadata": {},
   "source": [
    "Take both people's name and check for number of times the letter in the word TRUE occurs. Then check for the number of times the lettters in the word LOVE occurs. Then combine these numbers to make a 2 digit number."
   ]
  },
  {
   "cell_type": "code",
   "execution_count": 10,
   "metadata": {},
   "outputs": [
    {
     "name": "stdout",
     "output_type": "stream",
     "text": [
      "Welcome to the Love Calculator!\n",
      "Your score is 24.\n"
     ]
    }
   ],
   "source": [
    "# User input\n",
    "print(\"Welcome to the Love Calculator!\")\n",
    "name1 = input(\"What is your name? \\n\").lower()\n",
    "name2 = input(\"What is their name? \\n\").lower()\n",
    "\n",
    "# TRUE - 1st digit\n",
    "count_t = name1.count(\"t\") + name2.count(\"t\")\n",
    "count_r = name1.count(\"r\") + name2.count(\"r\")\n",
    "count_u = name1.count(\"u\") + name2.count(\"u\")\n",
    "count_e = name1.count(\"e\") + name2.count(\"e\")\n",
    "\n",
    "first_digit = count_t + count_r + count_u + count_e\n",
    "\n",
    "# LOVE - 2nd digit \n",
    "count_l = name1.count(\"l\") + name2.count(\"l\")\n",
    "count_o = name1.count(\"o\") + name2.count(\"o\")\n",
    "count_v = name1.count(\"v\") + name2.count(\"v\")\n",
    "count_e2 = name1.count(\"e\") + name2.count(\"e\")\n",
    "\n",
    "second_digit = count_l + count_o + count_v + count_e2 \n",
    "\n",
    "# Combining both digits together to create final result\n",
    "love_score = int(str(first_digit)+str(second_digit))\n",
    "\n",
    "# Print out results \n",
    "if (love_score < 10) or (love_score > 90):\n",
    "    print(f\"Your score is {love_score}, you go together like coke and mentos.\")\n",
    "elif (love_score >= 40) and (love_score <= 50):\n",
    "    print(f\"Your score is {love_score}, you are alright together.\")\n",
    "else: \n",
    "    print(f\"Your score is {love_score}.\")"
   ]
  },
  {
   "cell_type": "code",
   "execution_count": 11,
   "metadata": {},
   "outputs": [
    {
     "name": "stdout",
     "output_type": "stream",
     "text": [
      "\n",
      "*******************************************************************************\n",
      "          |                   |                  |                     |\n",
      " _________|________________.=\"\"_;=.______________|_____________________|_______\n",
      "|                   |  ,-\"_,=\"\"     `\"=.|                  |\n",
      "|___________________|__\"=._o`\"-._        `\"=.______________|___________________\n",
      "          |                `\"=._o`\"=._      _`\"=._                     |\n",
      " _________|_____________________:=._o \"=._.\"_.-=\"'\"=.__________________|_______\n",
      "|                   |    __.--\" , ; `\"=._o.\" ,-\"\"\"-._ \".   |\n",
      "|___________________|_._\"  ,. .` ` `` ,  `\"-._\"-._   \". '__|___________________\n",
      "          |           |o`\"=._` , \"` `; .\". ,  \"-._\"-._; ;              |\n",
      " _________|___________| ;`-.o`\"=._; .\" ` '`.\"\\` . \"-._ /_______________|_______\n",
      "|                   | |o;    `\"-.o`\"=._``  '` \" ,__.--o;   |\n",
      "|___________________|_| ;     (#) `-.o `\"=.`_.--\"_o.-; ;___|___________________\n",
      "____/______/______/___|o;._    \"      `\".o|o_.--\"    ;o;____/______/______/____\n",
      "/______/______/______/_\"=._o--._        ; | ;        ; ;/______/______/______/_\n",
      "____/______/______/______/__\"=._o--._   ;o|o;     _._;o;____/______/______/____\n",
      "/______/______/______/______/____\"=._o._; | ;_.--\"o.--\"_/______/______/______/_\n",
      "____/______/______/______/______/_____\"=.o|o_.--\"\"___/______/______/______/____\n",
      "/______/______/______/______/______/______/______/______/______/______/_____ /\n",
      "*******************************************************************************\n",
      "\n",
      "Welcome to Treasure Island.\n",
      "Your mission is to find the treasure.\n",
      "Burned by fire. Game Over.\n"
     ]
    }
   ],
   "source": [
    "print('''\n",
    "*******************************************************************************\n",
    "          |                   |                  |                     |\n",
    " _________|________________.=\"\"_;=.______________|_____________________|_______\n",
    "|                   |  ,-\"_,=\"\"     `\"=.|                  |\n",
    "|___________________|__\"=._o`\"-._        `\"=.______________|___________________\n",
    "          |                `\"=._o`\"=._      _`\"=._                     |\n",
    " _________|_____________________:=._o \"=._.\"_.-=\"'\"=.__________________|_______\n",
    "|                   |    __.--\" , ; `\"=._o.\" ,-\"\"\"-._ \".   |\n",
    "|___________________|_._\"  ,. .` ` `` ,  `\"-._\"-._   \". '__|___________________\n",
    "          |           |o`\"=._` , \"` `; .\". ,  \"-._\"-._; ;              |\n",
    " _________|___________| ;`-.o`\"=._; .\" ` '`.\"\\` . \"-._ /_______________|_______\n",
    "|                   | |o;    `\"-.o`\"=._``  '` \" ,__.--o;   |\n",
    "|___________________|_| ;     (#) `-.o `\"=.`_.--\"_o.-; ;___|___________________\n",
    "____/______/______/___|o;._    \"      `\".o|o_.--\"    ;o;____/______/______/____\n",
    "/______/______/______/_\"=._o--._        ; | ;        ; ;/______/______/______/_\n",
    "____/______/______/______/__\"=._o--._   ;o|o;     _._;o;____/______/______/____\n",
    "/______/______/______/______/____\"=._o._; | ;_.--\"o.--\"_/______/______/______/_\n",
    "____/______/______/______/______/_____\"=.o|o_.--\"\"___/______/______/______/____\n",
    "/______/______/______/______/______/______/______/______/______/______/_____ /\n",
    "*******************************************************************************\n",
    "''')\n",
    "print(\"Welcome to Treasure Island.\")\n",
    "print(\"Your mission is to find the treasure.\")\n",
    "\n",
    "choice1 = input('You\\'re at a crossroad, where do you want to go? Type \"left\" or \"right\".\\n').lower()\n",
    "\n",
    "if choice1 == \"left\":\n",
    "    choice2 = input('You\\'ve come to a lake. There is an island in the middle of the lake. Type \"wait\" to wait for a boat. Type \"swim\" to swim across.\\n').lower()\n",
    "    if choice2 == \"wait\":\n",
    "        choice3 = input(\"You arrived at the island unharmed. There is a house with 3 doors. One red, one yello and one blue. Which color do you choose?\\n\").lower()\n",
    "        if choice3 == \"yellow\":\n",
    "            print(\"You Win!\")\n",
    "        elif choice3 == \"red\":\n",
    "            print(\"Burned by fire. Game Over.\")\n",
    "        elif choice3 == \"blue\":\n",
    "            print(\"Eaten by beasts. Game Over.\")\n",
    "        else:\n",
    "            print(\"Game Over.\")\n",
    "    else:\n",
    "        print(\"You got attacked by trout. Game Over\")    \n",
    "else:\n",
    "    print(\"You fell into a hole. Game Over.\")\n"
   ]
  }
 ],
 "metadata": {
  "kernelspec": {
   "display_name": "Python 3.8.2 ('my_python_project')",
   "language": "python",
   "name": "python3"
  },
  "language_info": {
   "codemirror_mode": {
    "name": "ipython",
    "version": 3
   },
   "file_extension": ".py",
   "mimetype": "text/x-python",
   "name": "python",
   "nbconvert_exporter": "python",
   "pygments_lexer": "ipython3",
   "version": "3.8.2"
  },
  "orig_nbformat": 4,
  "vscode": {
   "interpreter": {
    "hash": "7b1d5d7e3ebafe170e3e04607f606e955af00efa24e6aac0c2727d6bf7ed4b12"
   }
  }
 },
 "nbformat": 4,
 "nbformat_minor": 2
}
