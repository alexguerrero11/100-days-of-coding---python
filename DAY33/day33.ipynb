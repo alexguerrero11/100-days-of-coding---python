{
 "cells": [
  {
   "attachments": {},
   "cell_type": "markdown",
   "metadata": {},
   "source": [
    "# Day 33 - API Endpoints & API Parameters"
   ]
  },
  {
   "cell_type": "markdown",
   "metadata": {},
   "source": [
    "## ISS Position"
   ]
  },
  {
   "cell_type": "code",
   "execution_count": 4,
   "metadata": {},
   "outputs": [
    {
     "name": "stdout",
     "output_type": "stream",
     "text": [
      "('-84.4756', '-38.4827')\n"
     ]
    }
   ],
   "source": [
    "import requests\n",
    "\n",
    "response = requests.get(url=\"http://api.open-notify.org/iss-now.json\")\n",
    "\n",
    "# print(response)\n",
    "# print(response.status_code)\n",
    "response.raise_for_status()\n",
    "\n",
    "data = response.json()\n",
    "\n",
    "# ISS position\n",
    "iss_longitude = data[\"iss_position\"][\"longitude\"]\n",
    "iss_latitude = data[\"iss_position\"][\"latitude\"]\n",
    "\n",
    "iss_position = (iss_longitude, iss_latitude)\n",
    "\n",
    "print(iss_position)"
   ]
  },
  {
   "attachments": {},
   "cell_type": "markdown",
   "metadata": {},
   "source": [
    "## Challenge - Build a Kanye Quotes API using the REST API"
   ]
  },
  {
   "cell_type": "code",
   "execution_count": null,
   "metadata": {},
   "outputs": [],
   "source": []
  },
  {
   "attachments": {},
   "cell_type": "markdown",
   "metadata": {},
   "source": [
    "## Sunset and Sunrise Api"
   ]
  },
  {
   "cell_type": "code",
   "execution_count": 9,
   "metadata": {},
   "outputs": [
    {
     "name": "stdout",
     "output_type": "stream",
     "text": [
      "Sunset/Sunrise Data: {'results': {'sunrise': '2023-02-18T01:53:02+00:00', 'sunset': '2023-02-18T12:42:55+00:00', 'solar_noon': '2023-02-18T07:17:59+00:00', 'day_length': 38993, 'civil_twilight_begin': '2023-02-18T01:26:33+00:00', 'civil_twilight_end': '2023-02-18T13:09:24+00:00', 'nautical_twilight_begin': '2023-02-18T00:54:35+00:00', 'nautical_twilight_end': '2023-02-18T13:41:23+00:00', 'astronomical_twilight_begin': '2023-02-18T00:22:51+00:00', 'astronomical_twilight_end': '2023-02-18T14:13:06+00:00'}, 'status': 'OK'}\n",
      "1\n",
      "12\n",
      "18\n"
     ]
    }
   ],
   "source": [
    "import requests\n",
    "from datetime import datetime\n",
    "\n",
    "# Setting NYC Location field into correct format for API Request\n",
    "parameters = {\n",
    "    \"lat\": 40.7484,\n",
    "    \"lng\": 73.9857,\n",
    "    \"formatted\": 0\n",
    "}\n",
    "\n",
    "# Sunset times with the Current Time API\n",
    "response = requests.get(\"http://api.sunrise-sunset.org/json\", params=parameters)\n",
    "response.raise_for_status()  # incase we don't get a 200 code\n",
    "\n",
    "# Sunset/Sunrise Data\n",
    "data = response.json()\n",
    "print(f\"Sunset/Sunrise Data: {data}\")\n",
    "\n",
    "# Fields\n",
    "sunrise = int(data[\"results\"][\"sunrise\"].split('T')[1].split(':')[0])\n",
    "sunset = int(data[\"results\"][\"sunset\"].split('T')[1].split(':')[0])\n",
    "\n",
    "time_now = datetime.now().hour\n",
    "\n",
    "print(sunrise)\n",
    "print(sunset)\n",
    "print(time_now)"
   ]
  }
 ],
 "metadata": {
  "kernelspec": {
   "display_name": "my_python_project",
   "language": "python",
   "name": "python3"
  },
  "language_info": {
   "codemirror_mode": {
    "name": "ipython",
    "version": 3
   },
   "file_extension": ".py",
   "mimetype": "text/x-python",
   "name": "python",
   "nbconvert_exporter": "python",
   "pygments_lexer": "ipython3",
   "version": "3.8.2"
  },
  "orig_nbformat": 4,
  "vscode": {
   "interpreter": {
    "hash": "7b1d5d7e3ebafe170e3e04607f606e955af00efa24e6aac0c2727d6bf7ed4b12"
   }
  }
 },
 "nbformat": 4,
 "nbformat_minor": 2
}
