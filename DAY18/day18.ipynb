{
 "cells": [
  {
   "cell_type": "markdown",
   "metadata": {},
   "source": [
    "# Day 18 - Turtle & the Graphical User Interface (GUI)"
   ]
  },
  {
   "cell_type": "code",
   "execution_count": null,
   "metadata": {},
   "outputs": [],
   "source": [
    "from turtle import Turtle, Screen\n",
    "import random\n",
    "\n",
    "timmy = Turtle()\n",
    "timmy.shape(\"turtle\")\n",
    "# timmy.color(\"blue\")"
   ]
  },
  {
   "cell_type": "code",
   "execution_count": null,
   "metadata": {},
   "outputs": [],
   "source": [
    "# Challenge 1 : Draw a square\n",
    "def draw_square():\n",
    "    for i in range(4):\n",
    "        timmy.forward(100)\n",
    "        timmy.left(90)"
   ]
  },
  {
   "cell_type": "code",
   "execution_count": null,
   "metadata": {},
   "outputs": [],
   "source": [
    "# Challenge 2 : Draw a dashed line\n",
    "def dashed_line():\n",
    "    for i in range(15):\n",
    "        timmy.pendown()\n",
    "        timmy.forward(10)\n",
    "        timmy.penup()\n",
    "        timmy.forward(10)"
   ]
  },
  {
   "cell_type": "code",
   "execution_count": null,
   "metadata": {},
   "outputs": [],
   "source": [
    "# Challenge 3 : Draw the following shapes in sequence\n",
    "# Triangle, square, pentagon, hexagon, heptagon, octagon, nonagon and dexagon\n",
    "\n",
    "colours = [\"CornflowerBlue\", \"DarkOrchid\", \"IndianRed\", \"DeepSkyBlue\", \"LightSeaGreen\", \"wheat\", \"SlateGray\", \"SeaGreen\"]\n",
    "\n",
    "def shape_pattern():\n",
    "    for num_sides in range(3, 10):\n",
    "        angle = 360 / num_sides\n",
    "        timmy.color(random.choice(colours))\n",
    "        for i in range(num_sides):\n",
    "            timmy.forward(100)\n",
    "            timmy.right(angle)"
   ]
  },
  {
   "cell_type": "code",
   "execution_count": null,
   "metadata": {},
   "outputs": [],
   "source": [
    "# Challenge 4 : Generate a random walk\n",
    "# Turtle picks a different direction and color every more but only moves forward in units of 10.\n",
    "\n",
    "direction = [0, 90, 180, 270]\n",
    "\n",
    "def random_walk(intervals):\n",
    "    timmy.pensize(5)\n",
    "    for _ in range(intervals):\n",
    "        timmy.color(random.choice(colours))\n",
    "        timmy.forward(30)\n",
    "        angle = random.choice(direction)\n",
    "        timmy.setheading(angle)\n",
    "        timmy.speed(\"fast\")"
   ]
  },
  {
   "cell_type": "code",
   "execution_count": null,
   "metadata": {},
   "outputs": [],
   "source": [
    "# Challenge : Random Color using RGB colours\n",
    "turtle.colormode(255)\n",
    "\n",
    "\n",
    "def random_color():\n",
    "    r = random.randint(0,255)\n",
    "    g = random.randint(0,255)\n",
    "    b = random.randint(0,255)\n",
    "    color = (r, g, b)\n",
    "    return color\n",
    "\n",
    "\n",
    "def random_walk2(intervals):\n",
    "    timmy.pensize(5)\n",
    "    for _ in range(intervals):\n",
    "        timmy.color(random_color())\n",
    "        timmy.forward(30)\n",
    "        angle = random.choice(direction)\n",
    "        timmy.setheading(angle)\n",
    "        timmy.speed(\"fast\")"
   ]
  },
  {
   "cell_type": "code",
   "execution_count": null,
   "metadata": {},
   "outputs": [],
   "source": [
    "# Challenge 5 : Draw a Spirograph\n",
    "def draw_spirograph(intervals):\n",
    "    timmy.speed(\"fastest\")\n",
    "    for _ in range(int(360 / intervals)):\n",
    "        timmy.circle(100)\n",
    "        timmy.color(random_color())\n",
    "        timmy.setheading(timmy.heading() + intervals)"
   ]
  },
  {
   "cell_type": "code",
   "execution_count": null,
   "metadata": {},
   "outputs": [],
   "source": [
    "# Different examples\n",
    "\n",
    "# draw_square()\n",
    "# dashed_line()\n",
    "# shape_pattern()\n",
    "# random_walk(100)\n",
    "# random_walk2(100)\n",
    "draw_spirograph(10)\n",
    "\n",
    "screen = Screen()\n",
    "screen.exitonclick()"
   ]
  }
 ],
 "metadata": {
  "kernelspec": {
   "display_name": "Python 3.8.2 ('my_python_project')",
   "language": "python",
   "name": "python3"
  },
  "language_info": {
   "codemirror_mode": {
    "name": "ipython",
    "version": 3
   },
   "file_extension": ".py",
   "mimetype": "text/x-python",
   "name": "python",
   "nbconvert_exporter": "python",
   "pygments_lexer": "ipython3",
   "version": "3.8.2 (default, Mar 25 2020, 11:22:43) \n[Clang 4.0.1 (tags/RELEASE_401/final)]"
  },
  "orig_nbformat": 4,
  "vscode": {
   "interpreter": {
    "hash": "7b1d5d7e3ebafe170e3e04607f606e955af00efa24e6aac0c2727d6bf7ed4b12"
   }
  }
 },
 "nbformat": 4,
 "nbformat_minor": 2
}
