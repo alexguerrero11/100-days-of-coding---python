{
 "cells": [
  {
   "cell_type": "markdown",
   "metadata": {},
   "source": [
    "## Day #11 - Blackjack Capstone Project"
   ]
  },
  {
   "cell_type": "code",
   "execution_count": null,
   "metadata": {},
   "outputs": [],
   "source": [
    "############### Blackjack Project #####################\n",
    "\n",
    "#Difficulty Normal 😎: Use all Hints below to complete the project.\n",
    "#Difficulty Hard 🤔: Use only Hints 1, 2, 3 to complete the project.\n",
    "#Difficulty Extra Hard 😭: Only use Hints 1 & 2 to complete the project.\n",
    "#Difficulty Expert 🤯: Only use Hint 1 to complete the project.\n",
    "\n",
    "############### Our Blackjack House Rules #####################\n",
    "\n",
    "## The deck is unlimited in size. \n",
    "## There are no jokers. \n",
    "## The Jack/Queen/King all count as 10.\n",
    "## The the Ace can count as 11 or 1.\n",
    "## Use the following list as the deck of cards:\n",
    "## cards = [11, 2, 3, 4, 5, 6, 7, 8, 9, 10, 10, 10, 10]\n",
    "## The cards in the list have equal probability of being drawn.\n",
    "## Cards are not removed from the deck as they are drawn.\n",
    "## The computer is the dealer.\n",
    "\n",
    "##################### Hints #####################\n",
    "\n",
    "#Hint 1: Go to this website and try out the Blackjack game: \n",
    "#   https://games.washingtonpost.com/games/blackjack/\n",
    "#Then try out the completed Blackjack project here: \n",
    "#   http://blackjack-final.appbrewery.repl.run\n",
    "\n",
    "#Hint 2: Read this breakdown of program requirements: \n",
    "#   http://listmoz.com/view/6h34DJpvJBFVRlZfJvxF\n",
    "#Then try to create your own flowchart for the program.\n",
    "\n",
    "#Hint 3: Download and read this flow chart I've created: \n",
    "#   https://drive.google.com/uc?export=download&id=1rDkiHCrhaf9eX7u7yjM1qwSuyEk-rPnt\n",
    "\n",
    "#Hint 4: Create a deal_card() function that uses the List below to *return* a random card.\n",
    "#11 is the Ace.\n",
    "#cards = [11, 2, 3, 4, 5, 6, 7, 8, 9, 10, 10, 10, 10]\n",
    "\n",
    "#Hint 5: Deal the user and computer 2 cards each using deal_card() and append().\n",
    "#user_cards = []\n",
    "#computer_cards = []\n",
    "\n",
    "#Hint 6: Create a function called calculate_score() that takes a List of cards as input \n",
    "#and returns the score. \n",
    "#Look up the sum() function to help you do this.\n",
    "\n",
    "#Hint 7: Inside calculate_score() check for a blackjack (a hand with only 2 cards: ace + 10) and return 0 instead of the actual score. 0 will represent a blackjack in our game.\n",
    "\n",
    "#Hint 8: Inside calculate_score() check for an 11 (ace). If the score is already over 21, remove the 11 and replace it with a 1. You might need to look up append() and remove().\n",
    "\n",
    "#Hint 9: Call calculate_score(). If the computer or the user has a blackjack (0) or if the user's score is over 21, then the game ends.\n",
    "\n",
    "#Hint 10: If the game has not ended, ask the user if they want to draw another card. If yes, then use the deal_card() function to add another card to the user_cards List. If no, then the game has ended.\n",
    "\n",
    "#Hint 11: The score will need to be rechecked with every new card drawn and the checks in Hint 9 need to be repeated until the game ends.\n"
   ]
  },
  {
   "cell_type": "markdown",
   "metadata": {},
   "source": [
    "Still working on this one"
   ]
  }
 ],
 "metadata": {
  "interpreter": {
   "hash": "7b1d5d7e3ebafe170e3e04607f606e955af00efa24e6aac0c2727d6bf7ed4b12"
  },
  "kernelspec": {
   "display_name": "Python 3.8.2 64-bit ('my_python_project': conda)",
   "language": "python",
   "name": "python3"
  },
  "language_info": {
   "codemirror_mode": {
    "name": "ipython",
    "version": 3
   },
   "file_extension": ".py",
   "mimetype": "text/x-python",
   "name": "python",
   "nbconvert_exporter": "python",
   "pygments_lexer": "ipython3",
   "version": "3.8.2"
  },
  "orig_nbformat": 4
 },
 "nbformat": 4,
 "nbformat_minor": 2
}
