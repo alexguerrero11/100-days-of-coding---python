{
 "cells": [
  {
   "attachments": {},
   "cell_type": "markdown",
   "metadata": {},
   "source": [
    "# Day 21 - Build the Snake Game Part 2: Inheritance & List Slicing"
   ]
  },
  {
   "cell_type": "code",
   "execution_count": null,
   "metadata": {},
   "outputs": [],
   "source": [
    "class Animal:\n",
    "    def __init__(self):\n",
    "        self.num_eyes = 2\n",
    "\n",
    "    def breathe(self):\n",
    "        print(\"Inhale, exhale.\")\n",
    "\n",
    "\n",
    "# In order to inherit everything from the class Animal, put the name of the class inside the parenthesis, like seen two\n",
    "# lines below\n",
    "\n",
    "# class Fish:\n",
    "class Fish(Animal):\n",
    "    # The following initialize the super class and lets this class gets all its attribute and the methods\n",
    "    def __init__(self):\n",
    "        super().__init__()\n",
    "\n",
    "    def breathe(self):\n",
    "        super().breathe()\n",
    "        print(\"doing this underwater.\")\n",
    "\n",
    "    def swim(self):\n",
    "        print(\"moving in water.\")\n",
    "\n",
    "\n",
    "nemo = Fish()\n",
    "nemo.swim()\n",
    "nemo.breathe()\n",
    "print(nemo.num_eyes)"
   ]
  }
 ],
 "metadata": {
  "kernelspec": {
   "display_name": "my_python_project",
   "language": "python",
   "name": "python3"
  },
  "language_info": {
   "name": "python",
   "version": "3.8.2 (default, Mar 25 2020, 11:22:43) \n[Clang 4.0.1 (tags/RELEASE_401/final)]"
  },
  "orig_nbformat": 4,
  "vscode": {
   "interpreter": {
    "hash": "7b1d5d7e3ebafe170e3e04607f606e955af00efa24e6aac0c2727d6bf7ed4b12"
   }
  }
 },
 "nbformat": 4,
 "nbformat_minor": 2
}
