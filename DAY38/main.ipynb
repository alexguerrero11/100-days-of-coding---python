{
 "cells": [
  {
   "cell_type": "code",
   "execution_count": 1,
   "metadata": {},
   "outputs": [],
   "source": [
    "import pandas as pd"
   ]
  },
  {
   "cell_type": "code",
   "execution_count": 6,
   "metadata": {},
   "outputs": [
    {
     "data": {
      "text/html": [
       "<div>\n",
       "<style scoped>\n",
       "    .dataframe tbody tr th:only-of-type {\n",
       "        vertical-align: middle;\n",
       "    }\n",
       "\n",
       "    .dataframe tbody tr th {\n",
       "        vertical-align: top;\n",
       "    }\n",
       "\n",
       "    .dataframe thead th {\n",
       "        text-align: right;\n",
       "    }\n",
       "</style>\n",
       "<table border=\"1\" class=\"dataframe\">\n",
       "  <thead>\n",
       "    <tr style=\"text-align: right;\">\n",
       "      <th></th>\n",
       "      <th>Exercise</th>\n",
       "      <th>Muscle Groups</th>\n",
       "    </tr>\n",
       "  </thead>\n",
       "  <tbody>\n",
       "    <tr>\n",
       "      <th>0</th>\n",
       "      <td>Ab Crunch</td>\n",
       "      <td>Abs</td>\n",
       "    </tr>\n",
       "    <tr>\n",
       "      <th>1</th>\n",
       "      <td>Flutter Kicks</td>\n",
       "      <td>Abs</td>\n",
       "    </tr>\n",
       "    <tr>\n",
       "      <th>2</th>\n",
       "      <td>Sit-Up</td>\n",
       "      <td>Abs</td>\n",
       "    </tr>\n",
       "    <tr>\n",
       "      <th>3</th>\n",
       "      <td>Plank</td>\n",
       "      <td>Abs</td>\n",
       "    </tr>\n",
       "    <tr>\n",
       "      <th>4</th>\n",
       "      <td>Lying Leg Raise</td>\n",
       "      <td>Abs</td>\n",
       "    </tr>\n",
       "    <tr>\n",
       "      <th>...</th>\n",
       "      <td>...</td>\n",
       "      <td>...</td>\n",
       "    </tr>\n",
       "    <tr>\n",
       "      <th>75</th>\n",
       "      <td>Clean and Jerk</td>\n",
       "      <td>Full Body/Compound</td>\n",
       "    </tr>\n",
       "    <tr>\n",
       "      <th>76</th>\n",
       "      <td>Snatch</td>\n",
       "      <td>Full Body/Compound</td>\n",
       "    </tr>\n",
       "    <tr>\n",
       "      <th>77</th>\n",
       "      <td>Kettlebell Swings</td>\n",
       "      <td>Full Body/Compound</td>\n",
       "    </tr>\n",
       "    <tr>\n",
       "      <th>78</th>\n",
       "      <td>Burpees</td>\n",
       "      <td>Full Body/Compound</td>\n",
       "    </tr>\n",
       "    <tr>\n",
       "      <th>79</th>\n",
       "      <td>Mountain Climbers</td>\n",
       "      <td>Full Body/Compound</td>\n",
       "    </tr>\n",
       "  </tbody>\n",
       "</table>\n",
       "<p>80 rows × 2 columns</p>\n",
       "</div>"
      ],
      "text/plain": [
       "             Exercise       Muscle Groups\n",
       "0           Ab Crunch                 Abs\n",
       "1       Flutter Kicks                 Abs\n",
       "2              Sit-Up                 Abs\n",
       "3               Plank                 Abs\n",
       "4     Lying Leg Raise                 Abs\n",
       "..                ...                 ...\n",
       "75     Clean and Jerk  Full Body/Compound\n",
       "76             Snatch  Full Body/Compound\n",
       "77  Kettlebell Swings  Full Body/Compound\n",
       "78            Burpees  Full Body/Compound\n",
       "79  Mountain Climbers  Full Body/Compound\n",
       "\n",
       "[80 rows x 2 columns]"
      ]
     },
     "execution_count": 6,
     "metadata": {},
     "output_type": "execute_result"
    }
   ],
   "source": [
    "data = pd.read_csv(\"workout-data - List of Exercise.csv\")\n",
    "data"
   ]
  },
  {
   "cell_type": "code",
   "execution_count": 61,
   "metadata": {},
   "outputs": [
    {
     "data": {
      "text/plain": [
       "{'1': 'Abs',\n",
       " '2': 'Arms',\n",
       " '3': 'Back',\n",
       " '4': 'Biceps',\n",
       " '5': 'Calves',\n",
       " '6': 'Chest',\n",
       " '7': 'Glutes_Hamstrings',\n",
       " '8': 'Note',\n",
       " '9': 'Quadriceps',\n",
       " '10': 'Shoulders',\n",
       " '11': 'Triceps',\n",
       " '12': 'Weight',\n",
       " '13': 'Core',\n",
       " '14': 'Cardio',\n",
       " '15': 'Full Body/Compound'}"
      ]
     },
     "execution_count": 61,
     "metadata": {},
     "output_type": "execute_result"
    }
   ],
   "source": [
    "# List out exercises per muscle group\n",
    "muscle_groups = {'1': 'Abs', '2': 'Arms', '3': 'Back', '4': 'Biceps', '5': 'Calves', '6': 'Chest', '7': 'Glutes_Hamstrings', '8': 'Note', '9': 'Quadriceps', '10': 'Shoulders', '11': 'Triceps', '12': 'Weight', '13': 'Core', '14': 'Cardio', '15': 'Full Body/Compound'}\n",
    "muscle_groups"
   ]
  },
  {
   "cell_type": "code",
   "execution_count": 73,
   "metadata": {},
   "outputs": [
    {
     "name": "stdout",
     "output_type": "stream",
     "text": [
      "List of Muscle Groups\n",
      "1: Abs\n",
      "2: Arms\n",
      "3: Back\n",
      "4: Biceps\n",
      "5: Calves\n",
      "6: Chest\n",
      "7: Glutes_Hamstrings\n",
      "8: Note\n",
      "9: Quadriceps\n",
      "10: Shoulders\n",
      "11: Triceps\n",
      "12: Weight\n",
      "13: Core\n",
      "14: Cardio\n",
      "15: Full Body/Compound\n"
     ]
    }
   ],
   "source": [
    "# Display dictionary\n",
    "# Print id and muscle group for each item\n",
    "print(\"List of Muscle Groups\")\n",
    "for identifier, muscle_group in muscle_groups.items():\n",
    "    print(f\"{identifier}: {muscle_group}\")\n",
    "\n",
    "# User input - Muscle group selection\n",
    "user_input = input(\"What muscle groups you worked on 'ex: 1, 3, 5': \")"
   ]
  },
  {
   "cell_type": "code",
   "execution_count": 76,
   "metadata": {},
   "outputs": [
    {
     "name": "stdout",
     "output_type": "stream",
     "text": [
      "[1, 2, 4, 5]\n"
     ]
    }
   ],
   "source": [
    "# user input str -> int\n",
    "# Split the string and convert to integers\n",
    "numbers = [int(number.strip()) for number in user_input.split(',')]\n",
    "\n",
    "# Display the result\n",
    "print(numbers)"
   ]
  },
  {
   "cell_type": "code",
   "execution_count": 81,
   "metadata": {},
   "outputs": [
    {
     "data": {
      "text/plain": [
       "{'1': 'Abs',\n",
       " '2': 'Arms',\n",
       " '3': 'Back',\n",
       " '4': 'Biceps',\n",
       " '5': 'Calves',\n",
       " '6': 'Chest',\n",
       " '7': 'Glutes_Hamstrings',\n",
       " '8': 'Note',\n",
       " '9': 'Quadriceps',\n",
       " '10': 'Shoulders',\n",
       " '11': 'Triceps',\n",
       " '12': 'Weight',\n",
       " '13': 'Core',\n",
       " '14': 'Cardio',\n",
       " '15': 'Full Body/Compound'}"
      ]
     },
     "execution_count": 81,
     "metadata": {},
     "output_type": "execute_result"
    }
   ],
   "source": [
    "muscle_groups\n"
   ]
  },
  {
   "cell_type": "code",
   "execution_count": 91,
   "metadata": {},
   "outputs": [
    {
     "name": "stdout",
     "output_type": "stream",
     "text": [
      "Abs\n",
      "0          Ab Crunch\n",
      "1      Flutter Kicks\n",
      "2             Sit-Up\n",
      "3              Plank\n",
      "4    Lying Leg Raise\n",
      "Name: Exercise, dtype: object\n",
      "Arms\n",
      "5    Dumbbell Wrist Flexion\n",
      "6     Reverse Barbell Curls\n",
      "Name: Exercise, dtype: object\n",
      "Biceps\n",
      "22                               Chin Up\n",
      "23                            Bicep Curl\n",
      "24                           Hammer Curl\n",
      "25                 Ez Barbell Bicep Curl\n",
      "26                 Cable Bar Biceps Curl\n",
      "27    Dumbbell Incline Bench Biceps Curl\n",
      "28                 Machine Preacher Curl\n",
      "Name: Exercise, dtype: object\n",
      "Calves\n",
      "29    Machine Calf Raise\n",
      "Name: Exercise, dtype: object\n"
     ]
    }
   ],
   "source": [
    "# Select the exercises per muscle group\n",
    "for group in numbers:\n",
    "    # print(group)\n",
    "    print(muscle_groups[f\"{group}\"])\n",
    "    print(data[data['Muscle Groups'] == muscle_groups[f\"{group}\"]]['Exercise'])"
   ]
  },
  {
   "cell_type": "code",
   "execution_count": null,
   "metadata": {},
   "outputs": [],
   "source": [
    "# Record sets, reps, weight, time, or note\n"
   ]
  }
 ],
 "metadata": {
  "kernelspec": {
   "display_name": "my_python_project",
   "language": "python",
   "name": "python3"
  },
  "language_info": {
   "codemirror_mode": {
    "name": "ipython",
    "version": 3
   },
   "file_extension": ".py",
   "mimetype": "text/x-python",
   "name": "python",
   "nbconvert_exporter": "python",
   "pygments_lexer": "ipython3",
   "version": "3.8.2"
  }
 },
 "nbformat": 4,
 "nbformat_minor": 2
}
