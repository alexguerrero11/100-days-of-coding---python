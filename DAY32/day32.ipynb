{
 "cells": [
  {
   "attachments": {},
   "cell_type": "markdown",
   "metadata": {},
   "source": [
    "# Day 32 - Send Email (smtplib) & Manage Dates (datetime)"
   ]
  },
  {
   "cell_type": "code",
   "execution_count": 14,
   "metadata": {},
   "outputs": [
    {
     "name": "stdout",
     "output_type": "stream",
     "text": [
      "\"The universe is change; our life is what our thoughts make it.\" - Marcus Aurelius\n",
      "\n"
     ]
    }
   ],
   "source": [
    "# Sending motivation quote to email depending on day\n",
    "\n",
    "import smtplib\n",
    "import datetime as dt\n",
    "import random\n",
    "\n",
    "# Getting today's date and weekday\n",
    "now = dt.datetime.now()\n",
    "weekday = now.weekday()\n",
    "\n",
    "# getting email and secret keys from env file\n",
    "from dotenv import load_dotenv\n",
    "import os\n",
    "\n",
    "load_dotenv()\n",
    "# environment variables\n",
    "\n",
    "TEST_EMAIL = os.getenv(\"GMAIL_TEST\")\n",
    "PASSWORD = os.getenv(\"GMAIL_TEST_PASS\")\n",
    "\n",
    "# Checking if condition is being met\n",
    "# ( 0 - Monday,\n",
    "# 1 - Tuesday,\n",
    "# 2 - Wednesday\n",
    "# 3 - Thursday\n",
    "# 4 - Friday\n",
    "# 5 - Saturday\n",
    "# 6 - Sunday)\n",
    "\n",
    "if weekday == 5:\n",
    "    # Opening file with lists of quotes\n",
    "    with open(\"quotes.txt\") as quote_file:\n",
    "        all_quotes = quote_file.readlines()\n",
    "        quote = random.choice(all_quotes)\n",
    "\n",
    "    # Printing out the quote\n",
    "    print(quote)\n",
    "\n",
    "    # Connect and Send Quote\n",
    "    with smtplib.SMTP(\"smtp.gmail.com\", port=587) as connection:\n",
    "        # a way of securing our connection\n",
    "        connection.starttls()\n",
    "        # login\n",
    "        connection.login(user=TEST_EMAIL, password=PASSWORD)\n",
    "\n",
    "        # Send email to\n",
    "        SEND_TO_EMAIL = \"test@email.com\"\n",
    "        # Body of message\n",
    "        body = f\"Subject: Motivation Quote \\n\\n {quote}.\"\n",
    "\n",
    "        # Sending message\n",
    "        connection.sendmail(\n",
    "            from_addr=TEST_EMAIL,\n",
    "            to_addrs=SEND_TO_EMAIL,\n",
    "            msg=body)"
   ]
  }
 ],
 "metadata": {
  "kernelspec": {
   "display_name": "my_python_project",
   "language": "python",
   "name": "python3"
  },
  "language_info": {
   "codemirror_mode": {
    "name": "ipython",
    "version": 3
   },
   "file_extension": ".py",
   "mimetype": "text/x-python",
   "name": "python",
   "nbconvert_exporter": "python",
   "pygments_lexer": "ipython3",
   "version": "3.8.2"
  },
  "orig_nbformat": 4,
  "vscode": {
   "interpreter": {
    "hash": "7b1d5d7e3ebafe170e3e04607f606e955af00efa24e6aac0c2727d6bf7ed4b12"
   }
  }
 },
 "nbformat": 4,
 "nbformat_minor": 2
}
