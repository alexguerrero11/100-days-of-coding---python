{
 "cells": [
  {
   "attachments": {},
   "cell_type": "markdown",
   "metadata": {},
   "source": [
    "# Day 32 - Send Email (smtplib) & Manage Dates (datetime)"
   ]
  },
  {
   "cell_type": "code",
   "execution_count": 9,
   "metadata": {},
   "outputs": [
    {
     "ename": "TypeError",
     "evalue": "'_io.TextIOWrapper' object is not subscriptable",
     "output_type": "error",
     "traceback": [
      "\u001b[0;31m---------------------------------------------------------------------------\u001b[0m",
      "\u001b[0;31mTypeError\u001b[0m                                 Traceback (most recent call last)",
      "\u001b[0;32m<ipython-input-9-d21c9366649e>\u001b[0m in \u001b[0;36m<module>\u001b[0;34m\u001b[0m\n\u001b[1;32m      8\u001b[0m \u001b[0;31m#/Users/alex/PycharmProjects/configurations/my_credentials.json\u001b[0m\u001b[0;34m\u001b[0m\u001b[0;34m\u001b[0m\u001b[0;34m\u001b[0m\u001b[0m\n\u001b[1;32m      9\u001b[0m \u001b[0;32mwith\u001b[0m \u001b[0mopen\u001b[0m\u001b[0;34m(\u001b[0m\u001b[0;34m'/Users/alex//PycharmProjects/configurations/my_credentials.json'\u001b[0m\u001b[0;34m,\u001b[0m \u001b[0;34m'r'\u001b[0m\u001b[0;34m)\u001b[0m \u001b[0;32mas\u001b[0m \u001b[0mf\u001b[0m\u001b[0;34m:\u001b[0m\u001b[0;34m\u001b[0m\u001b[0;34m\u001b[0m\u001b[0m\n\u001b[0;32m---> 10\u001b[0;31m     \u001b[0mconfig\u001b[0m \u001b[0;34m=\u001b[0m \u001b[0mjson\u001b[0m\u001b[0;34m.\u001b[0m\u001b[0mload\u001b[0m\u001b[0;34m(\u001b[0m\u001b[0mf\u001b[0m\u001b[0;34m[\u001b[0m\u001b[0;34m\"name\"\u001b[0m\u001b[0;34m]\u001b[0m\u001b[0;34m)\u001b[0m\u001b[0;34m\u001b[0m\u001b[0;34m\u001b[0m\u001b[0m\n\u001b[0m\u001b[1;32m     11\u001b[0m \u001b[0;34m\u001b[0m\u001b[0m\n\u001b[1;32m     12\u001b[0m \u001b[0;34m\u001b[0m\u001b[0m\n",
      "\u001b[0;31mTypeError\u001b[0m: '_io.TextIOWrapper' object is not subscriptable"
     ]
    }
   ],
   "source": [
    "# Sending motivation quote to email depending on day\n",
    "\n",
    "import smtplib\n",
    "import datetime as dt\n",
    "import random\n",
    "import json\n",
    "\n",
    "#/Users/alex/PycharmProjects/configurations/my_credentials.json\n",
    "with open('/Users/alex//PycharmProjects/configurations/my_credentials.json', 'r') as f:\n",
    "    config = json.load(f)\n",
    "\n",
    "\n",
    "# Getting today's date and weekday\n",
    "now = dt.datetime.now()\n",
    "weekday = now.weekday()\n",
    "\n"
   ]
  },
  {
   "cell_type": "code",
   "execution_count": null,
   "metadata": {},
   "outputs": [],
   "source": [
    "# Checking if condition is being met\n",
    "# ( 0 - Monday,\n",
    "# 1 - Tuesday,\n",
    "# 2 - Wednesday\n",
    "# 3 - Thursday\n",
    "# 4 - Friday\n",
    "# 5 - Saturday\n",
    "# 6 - Sunday)\n",
    "\n",
    "if weekday == 3:\n",
    "    # Opening file with lists of quotes\n",
    "    with open(\"quotes.txt\") as quote_file:\n",
    "        all_quotes = quote_file.readlines()\n",
    "        quote = random.choice(all_quotes)\n",
    "\n",
    "    # Printing out the quote\n",
    "    print(quote)\n",
    "\n",
    "    # Connect and Send Quote\n",
    "    with smtplib.SMTP(\"smtp.gmail.com\", port=587) as connection:\n",
    "        # a way of securing our connection\n",
    "        connection.starttls()\n",
    "        # login\n",
    "        connection.login(user=MY_EMAIL_TEST, password=MY_PASSWORD_TEST)\n",
    "\n",
    "        # Send email to\n",
    "        SEND_TO_EMAIL = \"alex.guerrero178@gmail.com\"\n",
    "        # Body of message\n",
    "        body = f\"Subject: Motivation Quote \\n\\n {quote}.\"\n",
    "\n",
    "        # Sending message\n",
    "        connection.sendmail(\n",
    "            from_addr=MY_EMAIL_TEST,\n",
    "            to_addrs=SEND_TO_EMAIL,\n",
    "            msg=body)"
   ]
  }
 ],
 "metadata": {
  "kernelspec": {
   "display_name": "my_python_project",
   "language": "python",
   "name": "python3"
  },
  "language_info": {
   "codemirror_mode": {
    "name": "ipython",
    "version": 3
   },
   "file_extension": ".py",
   "mimetype": "text/x-python",
   "name": "python",
   "nbconvert_exporter": "python",
   "pygments_lexer": "ipython3",
   "version": "3.8.2"
  },
  "orig_nbformat": 4,
  "vscode": {
   "interpreter": {
    "hash": "7b1d5d7e3ebafe170e3e04607f606e955af00efa24e6aac0c2727d6bf7ed4b12"
   }
  }
 },
 "nbformat": 4,
 "nbformat_minor": 2
}
