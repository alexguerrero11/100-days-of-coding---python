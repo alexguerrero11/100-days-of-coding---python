{
 "cells": [
  {
   "cell_type": "markdown",
   "metadata": {},
   "source": [
    "# Day 2 - Understanding Data Types and How to Manipulate Strings"
   ]
  },
  {
   "cell_type": "markdown",
   "metadata": {},
   "source": [
    "## Data Types"
   ]
  },
  {
   "cell_type": "code",
   "execution_count": 4,
   "metadata": {},
   "outputs": [
    {
     "name": "stdout",
     "output_type": "stream",
     "text": [
      "h\n"
     ]
    }
   ],
   "source": [
    "#string\n",
    "print(\"hello\"[0])"
   ]
  },
  {
   "cell_type": "code",
   "execution_count": 5,
   "metadata": {},
   "outputs": [
    {
     "name": "stdout",
     "output_type": "stream",
     "text": [
      "468\n"
     ]
    }
   ],
   "source": [
    "#integer\n",
    "print(123 + 345)"
   ]
  },
  {
   "cell_type": "code",
   "execution_count": 6,
   "metadata": {},
   "outputs": [
    {
     "data": {
      "text/plain": [
       "3.134"
      ]
     },
     "execution_count": 6,
     "metadata": {},
     "output_type": "execute_result"
    }
   ],
   "source": [
    "#float\n",
    "3.134"
   ]
  },
  {
   "cell_type": "code",
   "execution_count": 7,
   "metadata": {},
   "outputs": [
    {
     "data": {
      "text/plain": [
       "False"
      ]
     },
     "execution_count": 7,
     "metadata": {},
     "output_type": "execute_result"
    }
   ],
   "source": [
    "#boolean\n",
    "True\n",
    "False"
   ]
  },
  {
   "cell_type": "markdown",
   "metadata": {},
   "source": [
    "---"
   ]
  },
  {
   "cell_type": "markdown",
   "metadata": {},
   "source": [
    "## 2.1 Data Types\n",
    "write a program that adds the digits in a 3 digit number, e.g. if the input was 35, then the output should be 3 + 5 = 8."
   ]
  },
  {
   "cell_type": "code",
   "execution_count": 14,
   "metadata": {},
   "outputs": [
    {
     "name": "stdout",
     "output_type": "stream",
     "text": [
      "You inserted number: 12, which has a sum of 3\n"
     ]
    }
   ],
   "source": [
    "two_digits_number = input(\"Type a two digit number: \")\n",
    "# Dont change code above\n",
    "\n",
    "#slicing input and converting to interger\n",
    "first_digit = int(two_digits_number[0])\n",
    "second_digit = int(two_digits_number[1])\n",
    "\n",
    "#adding the two intergers together\n",
    "sum_of_two_digit_number = first_digit + second_digit\n",
    "\n",
    "print(f\"You inserted number: {two_digits_number}, which has a sum of {sum_of_two_digit_number}\")"
   ]
  },
  {
   "cell_type": "markdown",
   "metadata": {},
   "source": [
    "---"
   ]
  },
  {
   "cell_type": "markdown",
   "metadata": {},
   "source": [
    "## 2.2 BMI Calculator\n",
    "Write a program that calculates the Body Mass Index (BMI) from a user's weight and height.\n",
    "\n",
    "The BMI is calculated by dividing a person's weight (in kg) by the square of their height (in m)."
   ]
  },
  {
   "cell_type": "code",
   "execution_count": 20,
   "metadata": {},
   "outputs": [
    {
     "name": "stdout",
     "output_type": "stream",
     "text": [
      "26\n"
     ]
    }
   ],
   "source": [
    "height = input(\"enter your height in m: \")\n",
    "weight = input(\"enter your weight in kg \")\n",
    "# Don't change code above\n",
    "\n",
    "BMI = int(weight) / (float(height)**2)\n",
    "BMI = int(BMI)\n",
    "\n",
    "print(BMI)"
   ]
  },
  {
   "cell_type": "markdown",
   "metadata": {},
   "source": [
    "---"
   ]
  },
  {
   "cell_type": "code",
   "execution_count": 21,
   "metadata": {},
   "outputs": [
    {
     "name": "stdout",
     "output_type": "stream",
     "text": [
      "your score is 0, your height is 1.8, you are winning is True\n"
     ]
    }
   ],
   "source": [
    "score = 0 #int\n",
    "height = 1.8 #float\n",
    "isWinning = True #booelan\n",
    "\n",
    "# f-String helps use all variables without doing convertions ourselves\n",
    "# f\"your score is {score}\"\n",
    "print(f\"your score is {score}, your height is {height}, you are winning is {isWinning}\")"
   ]
  },
  {
   "cell_type": "markdown",
   "metadata": {},
   "source": [
    "---"
   ]
  },
  {
   "cell_type": "markdown",
   "metadata": {},
   "source": [
    "## 2.3 - Life in Weeks\n",
    "Create a program using maths and f-Strings that tell us how many days, weeks, months we have left if we live until 90 years old.\n"
   ]
  },
  {
   "cell_type": "code",
   "execution_count": null,
   "metadata": {},
   "outputs": [],
   "source": [
    "# The user inputs their age \n",
    "age = input(\"What is your current age?\")\n",
    "\n",
    "# 1 year = 365 days\n",
    "# 1 year = 52 weeks\n",
    "# 1 year = 12 months\n",
    "\n",
    "# Set variable to equal the goal year we tend to live up to according to problem\n",
    "goal_age = 90\n",
    "\n",
    "# Calculation to get the amount of years left till 90\n",
    "years_remaining = goal_age - int(age)\n",
    "\n",
    "# Calculations to get remaining set of days, weeks, and months\n",
    "days_remaining = years_remaining * 365\n",
    "weeks_remaining = years_remaining * 52\n",
    "months_remaining = years_remaining * 12\n",
    "\n",
    "# Set variable equal to the f-String and print out variable\n",
    "message = f\"You have {days_remaining} days, {weeks_remaining} weeks, and {months_remaining} months left.\"\n",
    "print(message)\n",
    "\n",
    "#If 21 ---> You have 25185 days, 3588 weeks, and 828 months left."
   ]
  }
 ],
 "metadata": {
  "kernelspec": {
   "display_name": "Python 3.8.2 ('my_python_project')",
   "language": "python",
   "name": "python3"
  },
  "language_info": {
   "codemirror_mode": {
    "name": "ipython",
    "version": 3
   },
   "file_extension": ".py",
   "mimetype": "text/x-python",
   "name": "python",
   "nbconvert_exporter": "python",
   "pygments_lexer": "ipython3",
   "version": "3.8.2"
  },
  "orig_nbformat": 4,
  "vscode": {
   "interpreter": {
    "hash": "7b1d5d7e3ebafe170e3e04607f606e955af00efa24e6aac0c2727d6bf7ed4b12"
   }
  }
 },
 "nbformat": 4,
 "nbformat_minor": 2
}
