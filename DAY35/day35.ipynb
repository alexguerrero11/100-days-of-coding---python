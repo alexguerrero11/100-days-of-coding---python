{
 "cells": [
  {
   "cell_type": "markdown",
   "metadata": {},
   "source": [
    "# Day 35 - Keys, Authentication & Environment Variables: Send SMS"
   ]
  },
  {
   "cell_type": "code",
   "execution_count": 28,
   "metadata": {},
   "outputs": [],
   "source": [
    "# weather app api\n",
    "import requests\n",
    "from dotenv import load_dotenv\n",
    "import os\n",
    "\n",
    "# getting secret keys from env file\n",
    "load_dotenv()\n",
    "\n",
    "# environment variables\n",
    "API_KEY = os.getenv(\"API_KEY\")\n",
    "\n",
    "# ENDPOINT \n",
    "OWM_ENDPOINT = \"https://api.openweathermap.org/data/2.5/weather?\"\n",
    "\n",
    "\n",
    "weather_params = {\n",
    "    \"lat\": 40.730610,\n",
    "    \"lon\": -73.935242,\n",
    "    \"appid\": API_KEY,\n",
    "}\n",
    "\n",
    "response = requests.get(OWM_ENDPOINT, params=weather_params)\n",
    "response.raise_for_status()\n",
    "weather_data = response.json()\n",
    "\n",
    "# \n",
    "will_rain_today = False\n",
    "\n",
    "# setting condition\n",
    "if weather_data['weather'][0]['id'] < 700:\n",
    "    will_rain_today = True\n",
    "\n",
    "# confirm to bring an umbrella\n",
    "if will_rain_today:\n",
    "    print('Bring an umbrella')\n",
    "    \n",
    "    client = Client(account_sid, auth_token)\n",
    "    message = client.messages \\\n",
    "        .create(\n",
    "            body=\"It's going to rain today. Remember to bring an umbrella.\"\n",
    "            from=''\n",
    "            tn =''\n",
    "        )"
   ]
  }
 ],
 "metadata": {
  "kernelspec": {
   "display_name": "my_python_project",
   "language": "python",
   "name": "python3"
  },
  "language_info": {
   "codemirror_mode": {
    "name": "ipython",
    "version": 3
   },
   "file_extension": ".py",
   "mimetype": "text/x-python",
   "name": "python",
   "nbconvert_exporter": "python",
   "pygments_lexer": "ipython3",
   "version": "3.8.2"
  },
  "orig_nbformat": 4
 },
 "nbformat": 4,
 "nbformat_minor": 2
}
