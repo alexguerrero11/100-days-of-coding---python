{
 "cells": [
  {
   "cell_type": "markdown",
   "metadata": {},
   "source": [
    "# Password Generator\n",
    "> Two levels - EASY & HARD "
   ]
  },
  {
   "cell_type": "code",
   "execution_count": null,
   "metadata": {},
   "outputs": [],
   "source": [
    "#Password Generator Project\n",
    "import random\n",
    "letters = ['a', 'b', 'c', 'd', 'e', 'f', 'g', 'h', 'i', 'j', 'k', 'l', 'm', 'n', 'o', 'p', 'q', 'r', 's', 't', 'u', 'v', 'w', 'x', 'y', 'z', 'A', 'B', 'C', 'D', 'E', 'F', 'G', 'H', 'I', 'J', 'K', 'L', 'M', 'N', 'O', 'P', 'Q', 'R', 'S', 'T', 'U', 'V', 'W', 'X', 'Y', 'Z']\n",
    "numbers = ['0', '1', '2', '3', '4', '5', '6', '7', '8', '9']\n",
    "symbols = ['!', '#', '$', '%', '&', '(', ')', '*', '+']\n",
    "\n",
    "# User input\n",
    "print(\"Welcome to my Python Password Generator!\")\n",
    "quantity_letters = int(input(\"How many letters would you like in your password?\\n\"))\n",
    "quantity_numbers = int(input(\"How many symbols would you like?\\n\"))\n",
    "quantity_symbols = int(input(\"How many numbers would you like?\\n\"))\n"
   ]
  },
  {
   "cell_type": "code",
   "execution_count": null,
   "metadata": {},
   "outputs": [],
   "source": [
    "# Easy Password\n",
    "\n",
    "password  = \"\"\n",
    "\n",
    "for character in range(1, quantity_letters + 1):\n",
    "    random_character = random.choice(letters)\n",
    "    password += random_character\n",
    "\n",
    "for character in range(1, quantity_numbers + 1):\n",
    "    password += random.choice(numbers)\n",
    "\n",
    "\n",
    "for character in range(1, quantity_symbols + 1):\n",
    "    password += random.choice(symbols)\n",
    "\n",
    "print(password)\n",
    "\n",
    "\n",
    "# Eazy Level - Order not randomised:\n",
    "# e.g. 4 letter, 2 symbol, 2 number = JduE&!91"
   ]
  },
  {
   "cell_type": "code",
   "execution_count": null,
   "metadata": {},
   "outputs": [],
   "source": [
    "# Hard Password \n",
    "\n",
    "password_list = []\n",
    "\n",
    "for character in range(1, quantity_letters + 1):\n",
    "    password_list.append(random.choice(letters))\n",
    "\n",
    "for character in range(1, quantity_symbols + 1):\n",
    "    password_list.append(random.choice(symbols))\n",
    "\n",
    "for character in range(1, quantity_numbers + 1):\n",
    "    password_list.append(random.choice(numbers))\n",
    "\n",
    "random.shuffle(password_list)\n",
    "\n",
    "password = \"\"\n",
    "for character in password_list:\n",
    "    password += character\n",
    "\n",
    "print(f\"Your password is: {password}\")\n",
    "\n",
    "#Hard Level - Order of characters randomised:\n",
    "#e.g. 4 letter, 2 symbol, 2 number = g^2jk8&P"
   ]
  }
 ],
 "metadata": {
  "kernelspec": {
   "display_name": "Python 3.8.2 ('my_python_project')",
   "language": "python",
   "name": "python3"
  },
  "language_info": {
   "name": "python",
   "version": "3.8.2"
  },
  "orig_nbformat": 4,
  "vscode": {
   "interpreter": {
    "hash": "7b1d5d7e3ebafe170e3e04607f606e955af00efa24e6aac0c2727d6bf7ed4b12"
   }
  }
 },
 "nbformat": 4,
 "nbformat_minor": 2
}
